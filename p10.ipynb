{
 "cells": [
  {
   "cell_type": "code",
   "execution_count": 1,
   "id": "823d2b54",
   "metadata": {
    "cell_type": "code",
    "deletable": false,
    "editable": false
   },
   "outputs": [],
   "source": [
    "import otter\n",
    "# nb_name should be the name of your notebook without the .ipynb extension\n",
    "nb_name = \"p10\"\n",
    "py_filename = nb_name + \".py\"\n",
    "grader = otter.Notebook(nb_name + \".ipynb\")"
   ]
  },
  {
   "cell_type": "code",
   "execution_count": 2,
   "id": "ff087ed4",
   "metadata": {
    "deletable": false,
    "editable": false
   },
   "outputs": [],
   "source": [
    "import p10_test"
   ]
  },
  {
   "cell_type": "markdown",
   "id": "30d663bd",
   "metadata": {
    "deletable": false,
    "editable": false
   },
   "source": [
    "# Project 10: Stars and Planets"
   ]
  },
  {
   "cell_type": "markdown",
   "id": "2ba07d7c",
   "metadata": {
    "deletable": false,
    "editable": false
   },
   "source": [
    "## Learning Objectives:\n",
    "\n",
    "In this project, you will demonstrate how to:\n",
    "\n",
    "* use `os` module to get information of files in a directory,\n",
    "* use `os` module to get paths of files,\n",
    "* look up data between JSON and CSV files using unique keys,\n",
    "* read JSON and CSV files to store data to `namedTuple` objects,\n",
    "* clean up missing values and handle cases when the file is too corrupt to parse,\n",
    "\n",
    "**Please go through [lab-p10](https://git.doit.wisc.edu/cdis/cs/courses/cs220/cs220-f22-projects/-/tree/main/lab-p10) before working on this project.** The lab introduces some important techniques related to this project."
   ]
  },
  {
   "cell_type": "markdown",
   "id": "2afc750e",
   "metadata": {
    "deletable": false,
    "editable": false
   },
   "source": [
    "## Note on Academic Misconduct:\n",
    "\n",
    "**IMPORTANT**: p10 and p11 are two parts of the same data analysis. You **cannot** switch project partners between these two projects. That is if you partner up with someone for p10, you have to sustain that partnership until end of p11. Now may be a good time to review [our course policies](https://cs220.cs.wisc.edu/f22/syllabus.html)."
   ]
  },
  {
   "cell_type": "markdown",
   "id": "63ead371",
   "metadata": {
    "deletable": false,
    "editable": false
   },
   "source": [
    "## Testing your code:\n",
    "\n",
    "Along with this notebook, you must have downloaded the file `p10_test.py`. If you are curious about how we test your code, you can explore this file, and specifically the value of the variable `expected_json`, to understand the expected answers to the questions."
   ]
  },
  {
   "cell_type": "markdown",
   "id": "7a1a6c51",
   "metadata": {
    "deletable": false,
    "editable": false
   },
   "source": [
    "## Setup:\n",
    "\n",
    "Before proceeding much further, download `data.zip` and extract it to a directory on your\n",
    "computer (using [Mac directions](http://osxdaily.com/2017/11/05/how-open-zip-file-mac/) or\n",
    "[Windows directions](https://support.microsoft.com/en-us/help/4028088/windows-zip-and-unzip-files)).\n",
    "\n",
    "You need to make sure that the project files are stored in the following structure:\n",
    "\n",
    "```\n",
    "+-- p10.ipynb\n",
    "+-- p10_test.py\n",
    "+-- data\n",
    "|   +-- .DS_Store\n",
    "|   +-- .ipynb_checkpoints\n",
    "|   +-- mapping_1.json\n",
    "|   +-- mapping_2.json\n",
    "|   +-- mapping_3.json\n",
    "|   +-- mapping_4.json\n",
    "|   +-- mapping_5.json\n",
    "|   +-- planets_1.csv\n",
    "|   +-- planets_2.csv\n",
    "|   +-- planets_3.csv\n",
    "|   +-- planets_4.csv\n",
    "|   +-- planets_5.csv\n",
    "|   +-- stars_1.csv\n",
    "|   +-- stars_2.csv\n",
    "|   +-- stars_3.csv\n",
    "|   +-- stars_4.csv\n",
    "|   +-- stars_5.csv\n",
    "```\n",
    "\n",
    "Make sure that the files inside `data.zip` are inside the `data` directory. If you place your files inside some other directory, then there is a possibility that your code will **fail on Gradescope** even after passing local tests."
   ]
  },
  {
   "cell_type": "markdown",
   "id": "f677746a",
   "metadata": {
    "deletable": false,
    "editable": false
   },
   "source": [
    "## Project Description:\n",
    "\n",
    "Cleaning data is an important part of a data scientist's work cycle. As you have already seen, the data we will be analyzing in p10 and p11 has been split up into 15 different files of different formats. Even worse, as you shall see later in this project, some of these files have been corrupted, and lots of data is missing. Unfortunately, in the real world, a lot of data that you will come across will be in rough shape, and it is your job to clean it up before you can analyze it. In p10, you will combine the data in these different files to create a few manageable data structures, which can be easily analyzed. In the process, you will also have to deal with broken CSV files (by skipping rows with broken data), and broken JSON files (by skipping the files entirely).\n",
    "\n",
    "After you create these data structures, in p11, you will dive deeper by analyzing this data and arrive at some exciting conclusions about various planets and stars outside our Solar System."
   ]
  },
  {
   "cell_type": "markdown",
   "id": "3bfc44be",
   "metadata": {
    "deletable": false,
    "editable": false
   },
   "source": [
    "## The Data:\n",
    "\n",
    "In p10 and p11, you will be studying stars and planets outside our Solar System using this dataset from the [NASA Exoplanet Archive](https://exoplanetarchive.ipac.caltech.edu/cgi-bin/TblView/nph-tblView?app=ExoTbls&config=PSCompPars). You will use Python to ask some interesting questions about the laws of the universe and explore the habitability of other planets in our universe. The raw data from the [NASA Exoplanet Archive](https://exoplanetarchive.ipac.caltech.edu/cgi-bin/TblView/nph-tblView?app=ExoTbls&config=PSCompPars) has been parsed and stored in multiple different files of different formats. You can find these files inside `data.zip`.\n",
    "\n",
    "You can open each of these files using Microsoft Excel or some other Spreadsheet viewing software to see how the data is stored. For example, these are the first three rows of the file `stars_1.csv`:\n",
    "\n",
    "|Name|Spectral Type|Stellar Effective Temperature [K]|Stellar Radius [Solar Radius]|Stellar Mass [Solar mass]|Stellar Luminosity [log(Solar)]|Stellar Surface Gravity [log10(cm/s**2)]|Stellar Age [Gyr]|\n",
    "|----|-------------|---------------------------------|-----------------------------|-------------------------|-------------------------------|----------------------------------------|-----------------|\n",
    "|11 Com|G8 III|4742.00|19.00|2.70|2.243|2.31||\n",
    "|11 UMi|K4 III|4213.00|29.79|2.78|2.430|1.93|1.560|\n",
    "|14 And|K0 III|4813.00|11.00|2.20|1.763|2.63|4.500|\n",
    "\n",
    "As you might have already guessed, this file contains data on a number of *stars* outside our solar system along with some important statistics about these stars. The columns here are as follows:\n",
    "\n",
    "- `Name`: The name given to the star by the International Astronomical Union,\n",
    "- `Spectral Type`: The Spectral Classification of the star as per the Morgan–Keenan (MK) system,\n",
    "- `Stellar Effective Temperature [K]`: The temperature of a black body (in units of Kelvin) that would emit the observed radiation of the star,\n",
    "- `Stellar Radius [Solar Radius]`: The radius of the star (in units of the radius of the Sun),\n",
    "- `Stellar Mass [Solar mass]`: The mass of the star (in units of the mass of the Sun),\n",
    "- `Stellar Luminosity [log(Solar)]`: The total amount of energy radiated by the star each second (represented by the logarithm of the energy radiated by the Sun in each second),\n",
    "- `Stellar Surface Gravity [log10(cm/s**2)]`: The acceleration due to the gravity of the Star at its surface (represented by the logarithm of the acceleration measured in centimeters per second squared),\n",
    "- `Stellar Age [Gyr]`: The total age of the star (in units of Giga years, i.e., billions of years).\n",
    "\n",
    "The four other files `stars_2.csv`, `stars_3.csv`, `stars_4.csv`, and `stars_5.csv` also store similar data in the same format. At this stage of the project, it is alright if you do not understand what these columns mean - they will be explained to you when they become necessary (in p11).\n",
    "\n",
    "On the other hand, here are the first three rows of the file `planets_1.csv`:\n",
    "\n",
    "|Planet Name|Discovery Method|Discovery Year|Controversial Flag|Orbital Period [days]|Planet Radius [Earth Radius]|Planet Mass [Earth Mass]|Orbit Semi-Major Axis [au]|Eccentricity|Equilibrium Temperature [K]|Insolation Flux [Earth Flux]|\n",
    "|-----------|----------------|--------------|------------------|---------------------|----------------------------|------------------------|---------------------------|------------|---------------------------|----------------------------|\n",
    "|11 Com b|Radial Velocity|2007|0|326.03|12.1|6165.6|1.29|0.231|||\n",
    "|11 UMi b|Radial Velocity|2009|0|516.21997|12.3|4684.8142|1.53|0.08|||\n",
    "|14 And b|Radial Velocity|2008|0|185.84|12.9|1525.5|0.83|0|||\n",
    "\n",
    "This file contains data on a number of *planets* outside our solar system along with some important statistics about these planets. The columns here are as follows:\n",
    "\n",
    "- `Planet Name`: The name given to the planet by the International Astronomical Union,\n",
    "- `Discovery Method`: The method by which the planet was discovered,\n",
    "- `Discovery Year`: The year in which the planet was discovered,\n",
    "- `Controversial Flag`: Indicates whether the status of the discovered object as a planet was disputed at the time of discovery, \n",
    "- `Orbital Period [days]`: The amount of time (in units of days) it takes for the planet to complete one orbit around its star,\n",
    "- `Planet Radius [Earth Radius]`: The radius of the planet (in units of the radius of the Earth),\n",
    "- `Planet Mass [Earth Mass]`: The mass of the planet (in units of the mass of the Earth),\n",
    "- `Orbit Semi-Major Axis [au]`: The semi-major axis of the planet's elliptical orbit around its host star (in units of Astronomical Units),\n",
    "- `Eccentricity`: The eccentricity of the planet's orbit around its host star,\n",
    "- `Equilibrium Temperature [K]`: The temperature of the planet (in units of Kelvin) if it were a black body heated only by its host star,\n",
    "- `Insolation Flux [Earth Flux]`:  The amount of radiation the planet receives from its host star per unit of area (in units of the Insolation Flux of the Earth from the Sun).\n",
    "\n",
    "The four other files `planets_2.csv`, `planets_3.csv`, `planets_4.csv`, and `planets_5.csv` also store similar data in the same format. At this stage of the project, it is alright if you do not understand what these columns mean - they will be explained to you when they become necessary (in p11).\n",
    "\n",
    "\n",
    "Finally, if you take a look at `mapping_1.json` (you can open json files using any Text Editor), you will see that the first three entries look like this:\n",
    "\n",
    "```\n",
    "{\"11 Com b\": \"11 Com\", \"11 UMi b\": \"11 UMi\", \"14 And b\": \"14 And\", ...}\n",
    "```\n",
    "\n",
    "This file contains a *mapping* from each *planet* in `planets_1.csv` to the *star* in `stars_1.csv` that the planet orbits. Similarly, `mapping_2.json` contains a *mapping* from each *planet* in `planets_2.csv` to the *star* in `stars_2.csv` that the planet orbits. The pattern also holds true for `mapping_3.json`, `mapping_4.json`, and `mapping_5.json`."
   ]
  },
  {
   "cell_type": "markdown",
   "id": "472dfac2",
   "metadata": {
    "deletable": false,
    "editable": false
   },
   "source": [
    "## Project Requirements:\n",
    "\n",
    "You **may not** hardcode indices in your code, unless the question explicitly. If you open your `.csv` files with Excel, manually count through the rows and use this number to loop through the dataset, this is also considered as hardcoding. We'll **manually deduct** points from your autograder score on Gradescope during code review.\n",
    "\n",
    "**Store** your final answer for each question in the **variable specified for each question**. This step is important because Otter grades your work by comparing the value of this variable against the correct answer.\n",
    "\n",
    "For some of the questions, we'll ask you to write (then use) a function to compute the answer. If you compute the answer **without** creating the function we ask you to write, we'll **manually deduct** points from your autograder score on Gradescope, even if the way you did it produced the correct answer.\n",
    "\n",
    "Required Functions:\n",
    "- `star_cell`\n",
    "- `get_stars`\n",
    "- `planet_cell`\n",
    "- `get_planets`\n",
    "\n",
    "In this project, you will also be required to define certain **data structures**. If you do not create these data structures exactly as specified, we'll **manually deduct** points from your autograder score on Gradescope, even if the way you did it produced the correct answer.\n",
    "\n",
    "Required Data Structures:\n",
    "- `Star` (**namedtuple**)\n",
    "- `stars_dict` (**dictionary** mapping **strings** to `Star` objects)\n",
    "- `Planet` (**namedtuple**)\n",
    "- `planets_list` (**list** of `Planet` objects)\n",
    "\n",
    "In addition, you are also **required** to follow the requirements below:\n",
    "\n",
    "* You **must** never use the output of the `os.listdir` function directly. You **must** always first remove all files and directories that start with `\".\"`, and sort the list before doing anything with it.\n",
    "* You are **not** allowed to use *bare* `try/except` blocks. In other words, you can **not** use `try/except` without explicitly specifying the type of exceptions that you want to catch.\n",
    "* You are **only** allowed to use Python commands and concepts that have been taught in the course prior to the release of p10. In particular, this means that you are **not** allowed to use **modules** like `pandas` to answer the questions in this project.\n",
    "\n",
    "You are also **required** to follow good coding practices, such as the following:\n",
    "\n",
    "* Do **not** use meaningless names for variables or functions (e.g. uuu = \"my name\").\n",
    "* Do **not** write the exact same code in multiple places. Instead, wrap this code into a function and call that function whenever the code should be used.\n",
    "* Avoid **inappropriate** use of data structures. For example, using a for loop to search for a corresponding value in a dictionary with a given key instead of using dictname[key] directly.\n",
    "* Do **not** name variables or functions as python keywords or built-in functions. Bad example: str = \"23\".\n",
    "* Do **not** define multiple functions with the same name or define multiple versions of one function with different names. Just keep the best version.\n",
    "* Do **not** leave in irrelevant output or test code that we didn't ask for.\n",
    "\n",
    "We will **manually deduct** points if you do **not** follow these guidelines.\n",
    "\n",
    "For more details on what will cause you to lose points during code review and specific requirements, please take a look at the [Grading rubric](https://git.doit.wisc.edu/cdis/cs/courses/cs220/cs220-f22-projects/-/blob/main/p10/rubric.md)."
   ]
  },
  {
   "cell_type": "markdown",
   "id": "381d4939",
   "metadata": {
    "deletable": false,
    "editable": false,
    "lines_to_next_cell": 0
   },
   "source": [
    "## Questions and Functions:\n",
    "\n",
    "Let us start by importing all the modules we will need for this project."
   ]
  },
  {
   "cell_type": "code",
   "execution_count": 3,
   "id": "fc356f2a",
   "metadata": {
    "lines_to_next_cell": 0,
    "tags": []
   },
   "outputs": [],
   "source": [
    "# it is considered a good coding practice to place all import statements at the top of the notebook\n",
    "# please place all your import statements in this cell if you need to import any more modules for this project\n",
    "import os\n",
    "from collections import namedtuple\n",
    "import csv\n",
    "import json"
   ]
  },
  {
   "cell_type": "markdown",
   "id": "6f8ad69e",
   "metadata": {
    "deletable": false,
    "editable": false
   },
   "source": [
    "### File handling:\n",
    "\n",
    "In the next questions, you will be using functions in the `os` module to make **lists** of files and paths in the `data` directory. All your **lists** **must** satisfy the following conditions:\n",
    "\n",
    "* Any files with names beginning with `\".\"` **must** be **excluded**.\n",
    "* The list **must** be **explicitly** sorted in **alphabetical** order.\n",
    "\n",
    "You may consider writing a single function to answer several questions, but this is **not required**. If you want to define such a function, you can insert a new cell in your notebook under this cell, and define the function there.\n",
    "\n",
    "**Hint**: Things that change for different questions can often be represented with parameters."
   ]
  },
  {
   "cell_type": "markdown",
   "id": "450180ff",
   "metadata": {
    "deletable": false,
    "editable": false
   },
   "source": [
    "**Question 1:** What are the **names** of the files present in the `data` directory\n",
    "\n",
    "Your output **must** be a **list** of **strings** representing the **names** of the files."
   ]
  },
  {
   "cell_type": "code",
   "execution_count": 4,
   "id": "828825d6",
   "metadata": {
    "lines_to_next_cell": 0,
    "tags": []
   },
   "outputs": [
    {
     "data": {
      "text/plain": [
       "['mapping_1.json',\n",
       " 'mapping_2.json',\n",
       " 'mapping_3.json',\n",
       " 'mapping_4.json',\n",
       " 'mapping_5.json',\n",
       " 'planets_1.csv',\n",
       " 'planets_2.csv',\n",
       " 'planets_3.csv',\n",
       " 'planets_4.csv',\n",
       " 'planets_5.csv',\n",
       " 'stars_1.csv',\n",
       " 'stars_2.csv',\n",
       " 'stars_3.csv',\n",
       " 'stars_4.csv',\n",
       " 'stars_5.csv']"
      ]
     },
     "execution_count": 4,
     "metadata": {},
     "output_type": "execute_result"
    }
   ],
   "source": [
    "# compute and store the answer in the variable 'files_in_data', then display it\n",
    "files_in_data = []\n",
    "data_files = os.listdir('data')\n",
    "\n",
    "for filename in data_files:\n",
    "    if filename.startswith(\".\"):\n",
    "        continue\n",
    "    else:\n",
    "        files_in_data.append(filename)\n",
    "\n",
    "files_in_data = sorted(files_in_data)\n",
    "files_in_data"
   ]
  },
  {
   "cell_type": "code",
   "execution_count": 5,
   "id": "5263007c",
   "metadata": {
    "deletable": false,
    "editable": false
   },
   "outputs": [
    {
     "data": {
      "text/html": [
       "<p><strong><pre style='display: inline;'>q1</pre></strong> passed!</p>"
      ],
      "text/plain": [
       "q1 results: All test cases passed!"
      ]
     },
     "execution_count": 5,
     "metadata": {},
     "output_type": "execute_result"
    }
   ],
   "source": [
    "grader.check(\"q1\")"
   ]
  },
  {
   "cell_type": "markdown",
   "id": "bdc3629d",
   "metadata": {
    "deletable": false,
    "editable": false
   },
   "source": [
    "**Question 2:** What are the **relative paths** of all the files in the `data` directory?\n",
    "\n",
    "Your output **must** be a **list** of **strings** representing the **paths** of the files.\n",
    "\n",
    "**Warning:** Please **do not hardcode** `\"/\"` or `\"\\\"` in your path because doing so will cause your function to **fail** on a computer that's not using the same operating system as yours. This may result in your code failing on Gradescope."
   ]
  },
  {
   "cell_type": "code",
   "execution_count": 6,
   "id": "344bfe95",
   "metadata": {
    "lines_to_next_cell": 0,
    "tags": []
   },
   "outputs": [
    {
     "data": {
      "text/plain": [
       "['data/mapping_1.json',\n",
       " 'data/mapping_2.json',\n",
       " 'data/mapping_3.json',\n",
       " 'data/mapping_4.json',\n",
       " 'data/mapping_5.json',\n",
       " 'data/planets_1.csv',\n",
       " 'data/planets_2.csv',\n",
       " 'data/planets_3.csv',\n",
       " 'data/planets_4.csv',\n",
       " 'data/planets_5.csv',\n",
       " 'data/stars_1.csv',\n",
       " 'data/stars_2.csv',\n",
       " 'data/stars_3.csv',\n",
       " 'data/stars_4.csv',\n",
       " 'data/stars_5.csv']"
      ]
     },
     "execution_count": 6,
     "metadata": {},
     "output_type": "execute_result"
    }
   ],
   "source": [
    "# compute and store the answer in the variable 'file_paths', then display it\n",
    "file_paths = []\n",
    "\n",
    "for filename in files_in_data:\n",
    "    path = os.path.join(\"data\", filename)\n",
    "    file_paths.append(path)\n",
    "    \n",
    "file_paths"
   ]
  },
  {
   "cell_type": "code",
   "execution_count": 7,
   "id": "8fca30cc",
   "metadata": {
    "deletable": false,
    "editable": false
   },
   "outputs": [
    {
     "data": {
      "text/html": [
       "<p><strong><pre style='display: inline;'>q2</pre></strong> passed!</p>"
      ],
      "text/plain": [
       "q2 results: All test cases passed!"
      ]
     },
     "execution_count": 7,
     "metadata": {},
     "output_type": "execute_result"
    }
   ],
   "source": [
    "grader.check(\"q2\")"
   ]
  },
  {
   "cell_type": "markdown",
   "id": "9e1079d8",
   "metadata": {
    "deletable": false,
    "editable": false
   },
   "source": [
    "**Question 3:** What are the **relative paths** of all the **JSON files** present in `data` directory?\n",
    "\n",
    "Your output **must** be filtered to **only** include files ending in `.json`.\n",
    "\n",
    "**Warning:** Please **do not hardcode** `\"/\"` or `\"\\\"` in your path because doing so will cause your function to **fail** on a computer that's not using the same operating system as yours. This may result in your code failing on Gradescope."
   ]
  },
  {
   "cell_type": "code",
   "execution_count": 8,
   "id": "7bc1d9dc",
   "metadata": {
    "lines_to_next_cell": 0,
    "tags": []
   },
   "outputs": [
    {
     "data": {
      "text/plain": [
       "['data/mapping_1.json',\n",
       " 'data/mapping_2.json',\n",
       " 'data/mapping_3.json',\n",
       " 'data/mapping_4.json',\n",
       " 'data/mapping_5.json']"
      ]
     },
     "execution_count": 8,
     "metadata": {},
     "output_type": "execute_result"
    }
   ],
   "source": [
    "# compute and store the answer in the variable 'json_file_paths', then display it\n",
    "json_file_paths = []\n",
    "\n",
    "for filename in files_in_data:\n",
    "    if filename.endswith(\".json\"):\n",
    "        path = os.path.join(\"data\", filename)\n",
    "        json_file_paths.append(path)\n",
    "    \n",
    "json_file_paths"
   ]
  },
  {
   "cell_type": "code",
   "execution_count": 9,
   "id": "1772cb9c",
   "metadata": {
    "deletable": false,
    "editable": false
   },
   "outputs": [
    {
     "data": {
      "text/html": [
       "<p><strong><pre style='display: inline;'>q3</pre></strong> passed!</p>"
      ],
      "text/plain": [
       "q3 results: All test cases passed!"
      ]
     },
     "execution_count": 9,
     "metadata": {},
     "output_type": "execute_result"
    }
   ],
   "source": [
    "grader.check(\"q3\")"
   ]
  },
  {
   "cell_type": "markdown",
   "id": "6c943ff1",
   "metadata": {
    "deletable": false,
    "editable": false
   },
   "source": [
    "**Question 4:** What are the **relative paths** of all the files present in `data` directory, that **begin** with the phrase `'stars'`?\n",
    "\n",
    "Your output **must** be filtered to **only** include files start with `stars`.\n",
    "\n",
    "**Warning:** Please **do not hardcode** `\"/\"` or `\"\\\"` in your path because doing so will cause your function to **fail** on a computer that's not using the same operating system as yours. This may result in your code failing on Gradescope."
   ]
  },
  {
   "cell_type": "code",
   "execution_count": 10,
   "id": "c1473255",
   "metadata": {
    "lines_to_next_cell": 0,
    "tags": []
   },
   "outputs": [
    {
     "data": {
      "text/plain": [
       "['data/stars_1.csv',\n",
       " 'data/stars_2.csv',\n",
       " 'data/stars_3.csv',\n",
       " 'data/stars_4.csv',\n",
       " 'data/stars_5.csv']"
      ]
     },
     "execution_count": 10,
     "metadata": {},
     "output_type": "execute_result"
    }
   ],
   "source": [
    "# compute and store the answer in the variable 'stars_paths', then display it\n",
    "stars_paths = []\n",
    "\n",
    "for filename in files_in_data:\n",
    "    if filename.startswith(\"stars\"):\n",
    "        path = os.path.join(\"data\", filename)\n",
    "        stars_paths.append(path)\n",
    "    \n",
    "stars_paths"
   ]
  },
  {
   "cell_type": "code",
   "execution_count": 11,
   "id": "0d972bda",
   "metadata": {
    "deletable": false,
    "editable": false
   },
   "outputs": [
    {
     "data": {
      "text/html": [
       "<p><strong><pre style='display: inline;'>q4</pre></strong> passed!</p>"
      ],
      "text/plain": [
       "q4 results: All test cases passed!"
      ]
     },
     "execution_count": 11,
     "metadata": {},
     "output_type": "execute_result"
    }
   ],
   "source": [
    "grader.check(\"q4\")"
   ]
  },
  {
   "cell_type": "markdown",
   "id": "efefa619",
   "metadata": {
    "deletable": false,
    "editable": false
   },
   "source": [
    "### Data Structure 1: namedtuple `Star`\n",
    "\n",
    "You will be using namedtuples to store the data in the `stars_1.csv`, ..., `stars_5.csv` files. Before you start reading these files however, you **must** create a new `Star` type (using namedtuple). It **must** have the following attributes:\n",
    "\n",
    "* `spectral_type`\n",
    "* `stellar_effective_temperature`\n",
    "* `stellar_radius`\n",
    "* `stellar_mass`\n",
    "* `stellar_luminosity`\n",
    "* `stellar_surface_gravity`\n",
    "* `stellar_age`"
   ]
  },
  {
   "cell_type": "code",
   "execution_count": 12,
   "id": "1b72fded",
   "metadata": {
    "lines_to_next_cell": 0,
    "tags": []
   },
   "outputs": [],
   "source": [
    "# define the namedtuple 'Star' here\n",
    "star_attributes = ['spectral_type',\n",
    "                  'stellar_effective_temperature',\n",
    "                  'stellar_radius',\n",
    "                  'stellar_mass',\n",
    "                  'stellar_luminosity',\n",
    "                  'stellar_surface_gravity',\n",
    "                  'stellar_age']\n",
    "\n",
    "Star = namedtuple(\"Star\", star_attributes)"
   ]
  },
  {
   "cell_type": "code",
   "execution_count": 13,
   "id": "08d17370",
   "metadata": {
    "tags": []
   },
   "outputs": [
    {
     "data": {
      "text/plain": [
       "Star(spectral_type='G2 V', stellar_effective_temperature=5780.0, stellar_radius=1.0, stellar_mass=1.0, stellar_luminosity=0.0, stellar_surface_gravity=4.44, stellar_age=4.6)"
      ]
     },
     "execution_count": 13,
     "metadata": {},
     "output_type": "execute_result"
    }
   ],
   "source": [
    "# run this following cell to initialize and test an example Star object\n",
    "# if this cell fails to execute, you have likely not defined the namedtuple 'Star' correctly\n",
    "sun = Star('G2 V', 5780.0, 1.0, 1.0, 0.0, 4.44, 4.6)\n",
    "\n",
    "sun"
   ]
  },
  {
   "cell_type": "code",
   "execution_count": 14,
   "id": "38e3af94",
   "metadata": {
    "deletable": false,
    "editable": false
   },
   "outputs": [
    {
     "data": {
      "text/html": [
       "<p><strong><pre style='display: inline;'>star_object</pre></strong> passed!</p>"
      ],
      "text/plain": [
       "star_object results: All test cases passed!"
      ]
     },
     "execution_count": 14,
     "metadata": {},
     "output_type": "execute_result"
    }
   ],
   "source": [
    "grader.check(\"star_object\")"
   ]
  },
  {
   "cell_type": "markdown",
   "id": "d2974353",
   "metadata": {
    "deletable": false,
    "editable": false
   },
   "source": [
    "### Creating `Star` objects\n",
    "\n",
    "Now that we have created the `Star` namedtuple, our next objective will be to read the files `stars_1.csv`, ..., `stars_5.csv` and create `Star` objects out of all the stars in there. In order to process the CSV files, you will first need to copy/paste the `process_csv` function you have been using since p6."
   ]
  },
  {
   "cell_type": "code",
   "execution_count": 15,
   "id": "4863d7b5",
   "metadata": {
    "tags": []
   },
   "outputs": [],
   "source": [
    "# copy & paste the process_csv file from previous projects here\n",
    "def process_csv(filename):\n",
    "    example_file = open(filename, encoding=\"utf-8\")\n",
    "    example_reader = csv.reader(example_file)\n",
    "    example_data = list(example_reader)\n",
    "    example_file.close()\n",
    "    return example_data"
   ]
  },
  {
   "cell_type": "markdown",
   "id": "129c08de",
   "metadata": {
    "deletable": false,
    "editable": false
   },
   "source": [
    "You are now ready to read the data in `stars_1.csv` using `process_csv` and convert the data into `Star` objects. In the cell below, you **must** read the data in `stars_1.csv` and extract the **header** and the non-header **rows** of the file.\n",
    "\n",
    "**Warning:** You **must** use the **relative path** of the file to read the file. If you **hardcode** the **absolute path**, your code will pass on your computer, but **fail** on the testing computer."
   ]
  },
  {
   "cell_type": "code",
   "execution_count": 16,
   "id": "2aed6340",
   "metadata": {
    "tags": []
   },
   "outputs": [],
   "source": [
    "# replace the ... with your code\n",
    "\n",
    "stars_1_csv = process_csv(os.path.join(\"data\", \"stars_1.csv\")) # read the data in 'stars_1.csv'\n",
    "stars_header = stars_1_csv[0]\n",
    "stars_rows =  stars_1_csv[1:]\n"
   ]
  },
  {
   "cell_type": "markdown",
   "id": "5d29b354",
   "metadata": {
    "deletable": false,
    "editable": false
   },
   "source": [
    "If you wish to **verify** that you have read the file and defined the variables correctly, you can check that `stars_header` has the value:\n",
    "\n",
    "```python\n",
    "['Name', 'Spectral Type', 'Stellar Effective Temperature [K]', 'Stellar Radius [Solar Radius]',\n",
    " 'Stellar Mass [Solar mass]', 'Stellar Luminosity [log(Solar)]', \n",
    " 'Stellar Surface Gravity [log10(cm/s**2)]', 'Stellar Age [Gyr]']\n",
    "```\n",
    "\n",
    "and that `stars_rows` has **1508** rows of which the **first three** are:\n",
    "\n",
    "```python\n",
    "[['11 Com', 'G8 III', '4742.00', '19.00', '2.70', '2.243', '2.31', ''],\n",
    " ['11 UMi', 'K4 III', '4213.00', '29.79', '2.78', '2.430', '1.93', '1.560'],\n",
    " ['14 And', 'K0 III', '4813.00', '11.00', '2.20', '1.763', '2.63', '4.500']]\n",
    "```"
   ]
  },
  {
   "cell_type": "markdown",
   "id": "208dd21b",
   "metadata": {
    "deletable": false,
    "editable": false
   },
   "source": [
    "### Function 1: `star_cell(row_idx, col_name, stars_rows, header=stars_header)`\n",
    "\n",
    "This function **must** read the **list** of **lists** `stars_rows`, and extract the value at **row** index `row_idx` and **column** name `col_name`. The function **must** typecast the value based on `col_name`. If the value in `stars_rows` is **missing** (i.e., it is `''`), then the value returned **must** be `None`.\n",
    "\n",
    "The **column** of `stars_rows` where the value should be obtained from, and the correct **data type** for the value are listed in the table below:\n",
    "\n",
    "|Column of `stars_rows`|Data Type|\n",
    "|------|---------|\n",
    "|Spectral Type|**string**|\n",
    "|Stellar Effective Temperature [K]|**float**|\n",
    "|Stellar Radius [Solar Radius]|**float**|\n",
    "|Stellar Mass [Solar mass]|**float**|\n",
    "|Stellar Luminosity [log(Solar)]|**float**|\n",
    "|Stellar Surface Gravity [log10(cm/s**2)]|**float**|\n",
    "|Stellar Age [Gyr]|**float**|"
   ]
  },
  {
   "cell_type": "code",
   "execution_count": 17,
   "id": "32eb9c3e",
   "metadata": {
    "tags": []
   },
   "outputs": [],
   "source": [
    "# copy/paste the 'star_cell' function from lab-p10 here\n",
    "\n",
    "def star_cell(row_idx, col_name, stars_rows, header=stars_header):\n",
    "    col_idx = header.index(col_name)\n",
    "    val = stars_rows[row_idx][col_idx]\n",
    "    if val == \"\":\n",
    "        return None\n",
    "    elif col_name == 'Name':\n",
    "        val = str(val)\n",
    "    elif col_name == 'Spectral Type':\n",
    "        val = str(val)\n",
    "    else:\n",
    "        val = float(val)\n",
    "    return val"
   ]
  },
  {
   "cell_type": "markdown",
   "id": "e8c8ac4d",
   "metadata": {
    "deletable": false,
    "editable": false
   },
   "source": [
    "**Question 5:** Create a `Star` object for the **third** star in `\"stars_1.csv\"`.\n",
    "\n",
    "You **must** access the values in `stars_1.csv` using the `star_cell` function. Note that the third star would be at **index** 2.\n",
    "\n",
    "The **attribute** of the `Star` namedtuple object, the corresponding **column** of the `stars_1.csv` file where the value should be obtained from, and the correct **data type** for the value are listed in the table below:\n",
    "\n",
    "|Attribute of `Star` object|Column of `stars_1.csv`|Data Type|\n",
    "|---------|------|---------|\n",
    "|`spectral_type`|Spectral Type|**string**|\n",
    "|`stellar_effective_temperature`|Stellar Effective Temperature [K]|**float**|\n",
    "|`stellar_radius`|Stellar Radius [Solar Radius]|**float**|\n",
    "|`stellar_mass`|Stellar Mass [Solar mass]|**float**|\n",
    "|`stellar_luminosity`|Stellar Luminosity [log(Solar)]|**float**|\n",
    "|`stellar_surface_gravity`|Stellar Surface Gravity [log10(cm/s**2)]|**float**|\n",
    "|`stellar_age`|Stellar Age [Gyr]|**float**|"
   ]
  },
  {
   "cell_type": "code",
   "execution_count": 18,
   "id": "264c79f9",
   "metadata": {
    "lines_to_next_cell": 0,
    "tags": []
   },
   "outputs": [
    {
     "data": {
      "text/plain": [
       "Star(spectral_type='K0 III', stellar_effective_temperature=4813.0, stellar_radius=11.0, stellar_mass=2.2, stellar_luminosity=1.763, stellar_surface_gravity=2.63, stellar_age=4.5)"
      ]
     },
     "execution_count": 18,
     "metadata": {},
     "output_type": "execute_result"
    }
   ],
   "source": [
    " # compute and store the answer in the variable 'third_star', then display it\n",
    "row_idx = 2\n",
    "\n",
    "star_name = star_cell(row_idx, 'Name', stars_rows)\n",
    "spectral_type = star_cell(row_idx, 'Spectral Type', stars_rows)\n",
    "stellar_effective_temperature = star_cell(row_idx, 'Stellar Effective Temperature [K]', stars_rows)\n",
    "stellar_radius = star_cell(row_idx, 'Stellar Radius [Solar Radius]', stars_rows)\n",
    "stellar_mass = star_cell(row_idx, 'Stellar Mass [Solar mass]', stars_rows)\n",
    "stellar_luminosity = star_cell(row_idx, 'Stellar Luminosity [log(Solar)]', stars_rows)\n",
    "stellar_surface_gravity = star_cell(row_idx, 'Stellar Surface Gravity [log10(cm/s**2)]', stars_rows)\n",
    "stellar_age = star_cell(row_idx, 'Stellar Age [Gyr]', stars_rows)\n",
    "    \n",
    "third_star = Star(spectral_type, stellar_effective_temperature, stellar_radius, \\\n",
    "                  stellar_mass, stellar_luminosity, \\\n",
    "                  stellar_surface_gravity, stellar_age)\n",
    "\n",
    "third_star"
   ]
  },
  {
   "cell_type": "code",
   "execution_count": 19,
   "id": "8de7fd74",
   "metadata": {
    "deletable": false,
    "editable": false
   },
   "outputs": [
    {
     "data": {
      "text/html": [
       "<p><strong><pre style='display: inline;'>q5</pre></strong> passed!</p>"
      ],
      "text/plain": [
       "q5 results: All test cases passed!"
      ]
     },
     "execution_count": 19,
     "metadata": {},
     "output_type": "execute_result"
    }
   ],
   "source": [
    "grader.check(\"q5\")"
   ]
  },
  {
   "cell_type": "markdown",
   "id": "426e2330",
   "metadata": {
    "deletable": false,
    "editable": false
   },
   "source": [
    "### Function 2:  `get_stars(star_file)`\n",
    "\n",
    "This function **must** take in as its input, the **relative path** of a CSV file `star_file` which contains data on stars in the same format as `stars_1.csv`. It **must** return a **dictionary** mapping the `Name` of each star in `star_file` to a `Star` object containing all the other details of the star.\n",
    "\n",
    "You **must** access the values in `stars_1.csv` using the `star_cell` function.\n",
    "\n",
    "Once again, as a reminder, the attributes of the `Star` objects should be obtained from the **rows** of `star_file` and stored as follows:\n",
    "\n",
    "|Attribute of `Star` object|Column of `star_file`|Data Type|\n",
    "|---------|------|---------|\n",
    "|`spectral_type`|Spectral Type|**string**|\n",
    "|`stellar_effective_temperature`|Stellar Effective Temperature [K]|**float**|\n",
    "|`stellar_radius`|Stellar Radius [Solar Radius]|**float**|\n",
    "|`stellar_mass`|Stellar Mass [Solar mass]|**float**|\n",
    "|`stellar_luminosity`|Stellar Luminosity [log(Solar)]|**float**|\n",
    "|`stellar_surface_gravity`|Stellar Surface Gravity [log10(cm/s**2)]|**float**|\n",
    "|`stellar_age`|Stellar Age [Gyr]|**float**|\n",
    "\n",
    "In case any data in `star_file` is **missing**, the corresponding value should be `None`.\n",
    "\n",
    "For example, when this function is called with the file `stars_1.csv` as the input, the **dictionary** returned should look like:\n",
    "\n",
    "```python\n",
    "{'11 Com': Star(spectral_type='G8 III', stellar_effective_temperature=4742.0, \n",
    "                stellar_radius=19.0, stellar_mass=2.7, stellar_luminosity=2.243, \n",
    "                stellar_surface_gravity=2.31, stellar_age=None),\n",
    " '11 UMi': Star(spectral_type='K4 III', stellar_effective_temperature=4213.0, \n",
    "                stellar_radius=29.79, stellar_mass=2.78, stellar_luminosity=2.43, \n",
    "                stellar_surface_gravity=1.93, stellar_age=1.56),\n",
    " '14 And': Star(spectral_type='K0 III', stellar_effective_temperature=4813.0, \n",
    "                stellar_radius=11.0, stellar_mass=2.2, stellar_luminosity=1.763, \n",
    "                stellar_surface_gravity=2.63, stellar_age=4.5),\n",
    " ...\n",
    "}\n",
    "```"
   ]
  },
  {
   "cell_type": "code",
   "execution_count": 20,
   "id": "bb7cbd91",
   "metadata": {
    "tags": []
   },
   "outputs": [],
   "source": [
    "# define the function 'get_stars' here\n",
    "\n",
    "def get_stars(star_file):\n",
    "    star_file_csv = process_csv(star_file)\n",
    "    star_file_header = star_file_csv[0]\n",
    "    star_file_rows = star_file_csv[1:]\n",
    "    stars_dict = {}\n",
    "    for row in range(len(star_file_rows)):\n",
    "        try:\n",
    "            star_name = star_cell(row, 'Name', star_file_rows)\n",
    "            spectral_type = star_cell(row, 'Spectral Type', star_file_rows)\n",
    "            stellar_effective_temperature = star_cell(row, 'Stellar Effective Temperature [K]', star_file_rows)\n",
    "            stellar_radius = star_cell(row, 'Stellar Radius [Solar Radius]', star_file_rows)\n",
    "            stellar_mass = star_cell(row, 'Stellar Mass [Solar mass]', star_file_rows)\n",
    "            stellar_luminosity = star_cell(row, 'Stellar Luminosity [log(Solar)]', star_file_rows)\n",
    "            stellar_surface_gravity = star_cell(row, 'Stellar Surface Gravity [log10(cm/s**2)]', star_file_rows)\n",
    "            stellar_age = star_cell(row, 'Stellar Age [Gyr]', star_file_rows)\n",
    "\n",
    "            star = Star(spectral_type, stellar_effective_temperature, stellar_radius, \\\n",
    "                      stellar_mass, stellar_luminosity, \\\n",
    "                      stellar_surface_gravity, stellar_age)\n",
    "\n",
    "            stars_dict[star_name] = star\n",
    "            \n",
    "        except ValueError:\n",
    "            continue\n",
    "        except IndexError:\n",
    "            continue\n",
    "        except KeyError:\n",
    "            continue\n",
    "            \n",
    "    return stars_dict\n",
    "\n",
    "    # TODO: read star_file to a list of lists\n",
    "    # TODO: extract the header and rows from star_file\n",
    "    # TODO: loop through each row in star_file\n",
    "    # TODO: create a Star object (namedTuple) for each row\n",
    "    # TODO: add each Star objet to a dictionary\n",
    "    # TODO: return the dictionary at the end of the loop\n",
    "    # replace with your code"
   ]
  },
  {
   "cell_type": "code",
   "execution_count": 21,
   "id": "2f920138",
   "metadata": {
    "tags": []
   },
   "outputs": [],
   "source": [
    "# you can now use 'get_stars' to read the data in 'stars_1.csv' but DO NOT display\n",
    "\n",
    "stars_1_dict = get_stars(os.path.join(\"data\", \"stars_1.csv\"))"
   ]
  },
  {
   "cell_type": "markdown",
   "id": "bd1f23df",
   "metadata": {
    "deletable": false,
    "editable": false
   },
   "source": [
    "**Question 6:** What is the `Star` object of the star (in `stars_1.csv`) named *DP Leo*?\n",
    "\n",
    "You **must** access the `Star` object in `stars_1_dict` **dictionary** defined above to answer this question."
   ]
  },
  {
   "cell_type": "code",
   "execution_count": 22,
   "id": "c5b0ce59",
   "metadata": {
    "lines_to_next_cell": 0,
    "tags": []
   },
   "outputs": [
    {
     "data": {
      "text/plain": [
       "Star(spectral_type=None, stellar_effective_temperature=13500.0, stellar_radius=0.01, stellar_mass=0.69, stellar_luminosity=-2.4, stellar_surface_gravity=None, stellar_age=None)"
      ]
     },
     "execution_count": 22,
     "metadata": {},
     "output_type": "execute_result"
    }
   ],
   "source": [
    "# compute and store the answer in the variable 'dp_leo', then display it\n",
    "dp_leo = stars_1_dict[\"DP Leo\"]\n",
    "dp_leo"
   ]
  },
  {
   "cell_type": "code",
   "execution_count": 23,
   "id": "d397687d",
   "metadata": {
    "deletable": false,
    "editable": false
   },
   "outputs": [
    {
     "data": {
      "text/html": [
       "<p><strong><pre style='display: inline;'>q6</pre></strong> passed!</p>"
      ],
      "text/plain": [
       "q6 results: All test cases passed!"
      ]
     },
     "execution_count": 23,
     "metadata": {},
     "output_type": "execute_result"
    }
   ],
   "source": [
    "grader.check(\"q6\")"
   ]
  },
  {
   "cell_type": "markdown",
   "id": "eee50d46",
   "metadata": {
    "deletable": false,
    "editable": false
   },
   "source": [
    "**Question 7:** What's the **average** `stellar_luminosity` of **all** the stars in the `star_1.csv` file?\n",
    "\n",
    "You **must** use the `stars_1_dict` **dictionary** defined above to answer this question.\n",
    "\n",
    "To find the average, you **must** first **add** up the `stellar_luminosity` value of all the stars and **divide** by the total **number** of stars. You **must skip** stars which don't have the `stellar_luminosity` data. Such stars should not contribute to either the sum of `stellar_luminosity` or to the number of stars."
   ]
  },
  {
   "cell_type": "code",
   "execution_count": 24,
   "id": "19b731ac",
   "metadata": {
    "lines_to_next_cell": 0,
    "tags": []
   },
   "outputs": [
    {
     "data": {
      "text/plain": [
       "0.016741496598639403"
      ]
     },
     "execution_count": 24,
     "metadata": {},
     "output_type": "execute_result"
    }
   ],
   "source": [
    "# compute and store the answer in the variable 'avg_lum_stars_1', then display it\n",
    "luminosity_total = 0\n",
    "stars_1_total = 0\n",
    "\n",
    "for star in stars_1_dict:\n",
    "    stellar_luminosity = (stars_1_dict[star]).stellar_luminosity\n",
    "    if stellar_luminosity == None:\n",
    "        continue\n",
    "    else:\n",
    "        luminosity_total += stellar_luminosity\n",
    "        stars_1_total += 1\n",
    "    \n",
    "avg_lum_stars_1 = luminosity_total/stars_1_total\n",
    "avg_lum_stars_1"
   ]
  },
  {
   "cell_type": "code",
   "execution_count": 25,
   "id": "6f6d3f17",
   "metadata": {
    "deletable": false,
    "editable": false
   },
   "outputs": [
    {
     "data": {
      "text/html": [
       "<p><strong><pre style='display: inline;'>q7</pre></strong> passed!</p>"
      ],
      "text/plain": [
       "q7 results: All test cases passed!"
      ]
     },
     "execution_count": 25,
     "metadata": {},
     "output_type": "execute_result"
    }
   ],
   "source": [
    "grader.check(\"q7\")"
   ]
  },
  {
   "cell_type": "markdown",
   "id": "65596001",
   "metadata": {
    "deletable": false,
    "editable": false
   },
   "source": [
    "**Question 8:** What is the **average** `stellar_age` of **all** the stars in the `stars_2.csv` file?\n",
    "\n",
    "You **must** use the function `get_stars(csv_file)` to read the data in `stars_2.csv`. Your output **must** be a **float** representing the `stellar_age` in units of *gigayears*. You **must** skip stars which have missing `stellar_age` data."
   ]
  },
  {
   "cell_type": "code",
   "execution_count": 26,
   "id": "eaf43d64",
   "metadata": {},
   "outputs": [],
   "source": [
    "stars_2_dict = get_stars(os.path.join(\"data\", \"stars_2.csv\"))"
   ]
  },
  {
   "cell_type": "code",
   "execution_count": 27,
   "id": "1c2e298d",
   "metadata": {
    "lines_to_next_cell": 0,
    "tags": []
   },
   "outputs": [
    {
     "data": {
      "text/plain": [
       "4.290235955056181"
      ]
     },
     "execution_count": 27,
     "metadata": {},
     "output_type": "execute_result"
    }
   ],
   "source": [
    "# compute and store the answer in the variable 'avg_age_stars_2', then display it\n",
    "age_total = 0\n",
    "stars_2_total = 0\n",
    "\n",
    "for star in stars_2_dict:\n",
    "    stellar_age = (stars_2_dict[star]).stellar_age\n",
    "    if stellar_age == None:\n",
    "        continue\n",
    "    else:\n",
    "        age_total += stellar_age\n",
    "        stars_2_total += 1\n",
    "    \n",
    "avg_age_stars_2 = age_total/stars_2_total\n",
    "avg_age_stars_2"
   ]
  },
  {
   "cell_type": "code",
   "execution_count": 28,
   "id": "b59d6856",
   "metadata": {
    "deletable": false,
    "editable": false
   },
   "outputs": [
    {
     "data": {
      "text/html": [
       "<p><strong><pre style='display: inline;'>q8</pre></strong> passed!</p>"
      ],
      "text/plain": [
       "q8 results: All test cases passed!"
      ]
     },
     "execution_count": 28,
     "metadata": {},
     "output_type": "execute_result"
    }
   ],
   "source": [
    "grader.check(\"q8\")"
   ]
  },
  {
   "cell_type": "markdown",
   "id": "af1b9ba5",
   "metadata": {
    "deletable": false,
    "editable": false
   },
   "source": [
    "### Data Structure 2: `stars_dict`\n",
    "\n",
    "You are now ready to read all the data about the stars stored in the `data` directory. You **must** now create a **dictionary** mapping the `Name` of each star in the `data` directory (inside the files `stars_1.csv`, ..., `stars_5.csv`) to the `Star` object containing all the other details about the star.\n",
    "\n",
    "You **must not** hardcode the files/paths of the files `stars_1.csv`, ..., `stars_5.csv` to answer this question. Instead, you **must** use the `os` module to find all the files in the `data` directory that begin with `'stars'`, and use the `get_stars` function on each of those files to create `stars_dict`.\n",
    "\n",
    "**Hints:** You may use the `stars_paths` variable defined earlier in q4 to get the list of paths needed for this question. You can use the `update` dictionary **method** to combine two **dictionaries**."
   ]
  },
  {
   "cell_type": "code",
   "execution_count": 29,
   "id": "ad991901",
   "metadata": {
    "tags": []
   },
   "outputs": [],
   "source": [
    "# define the variable 'stars_dict' here,\n",
    "# but do NOT display the variable at the end\n",
    "stars_dict = {} # initialize an empty dictionary\n",
    "\n",
    "for path in stars_paths:\n",
    "    stars_dict.update(get_stars(path))"
   ]
  },
  {
   "cell_type": "markdown",
   "id": "0004a50a",
   "metadata": {
    "deletable": false,
    "editable": false
   },
   "source": [
    "If you wish to **verify** that you have read the files and defined `stars_dict` correctly, you can check that `stars_dict` has **3879** key/value pairs in it."
   ]
  },
  {
   "cell_type": "markdown",
   "id": "50f7d2e9",
   "metadata": {
    "deletable": false,
    "editable": false
   },
   "source": [
    "**Question 9:** What is the `stellar_effective_temperature` of the star *Kepler-220*?\n",
    "\n",
    "You **must** access the correct `Star` object in the `stars_dict` **dictionary** defined above to answer this question."
   ]
  },
  {
   "cell_type": "code",
   "execution_count": 30,
   "id": "dd77d1a7",
   "metadata": {
    "lines_to_next_cell": 0,
    "tags": []
   },
   "outputs": [
    {
     "data": {
      "text/plain": [
       "4632.0"
      ]
     },
     "execution_count": 30,
     "metadata": {},
     "output_type": "execute_result"
    }
   ],
   "source": [
    "# compute and store the answer in the variable 'kepler_220_temp', then display it\n",
    "kepler_220_temp = (stars_dict[\"Kepler-220\"]).stellar_effective_temperature\n",
    "kepler_220_temp"
   ]
  },
  {
   "cell_type": "code",
   "execution_count": 31,
   "id": "4667f51a",
   "metadata": {
    "deletable": false,
    "editable": false
   },
   "outputs": [
    {
     "data": {
      "text/html": [
       "<p><strong><pre style='display: inline;'>q9</pre></strong> passed!</p>"
      ],
      "text/plain": [
       "q9 results: All test cases passed!"
      ]
     },
     "execution_count": 31,
     "metadata": {},
     "output_type": "execute_result"
    }
   ],
   "source": [
    "grader.check(\"q9\")"
   ]
  },
  {
   "cell_type": "markdown",
   "id": "da1992b0",
   "metadata": {
    "deletable": false,
    "editable": false
   },
   "source": [
    "**Question 10:** Find the **name** of the **largest** star (in terms of `stellar_radius`) in the `stars_dict` **dictionary**.\n",
    "\n",
    "Your output **must** be a **string**. You do **not** need to worry about any ties. You **must** skip any stars with **missing** `stellar_radius` data."
   ]
  },
  {
   "cell_type": "code",
   "execution_count": 32,
   "id": "7d492df4",
   "metadata": {
    "tags": []
   },
   "outputs": [
    {
     "data": {
      "text/plain": [
       "'HD 81817'"
      ]
     },
     "execution_count": 32,
     "metadata": {},
     "output_type": "execute_result"
    }
   ],
   "source": [
    "# compute and store the answer in the variable 'biggest_star', then display it\n",
    "biggest_star = None\n",
    "biggest_star_radius = None\n",
    "\n",
    "for star in stars_dict:\n",
    "    star_radius = (stars_dict[star]).stellar_radius\n",
    "    if star_radius == None:\n",
    "        continue\n",
    "    if biggest_star_radius == None or star_radius > biggest_star_radius:\n",
    "        biggest_star_radius = star_radius\n",
    "        biggest_star = star\n",
    "        \n",
    "biggest_star"
   ]
  },
  {
   "cell_type": "code",
   "execution_count": 33,
   "id": "36f1eb95",
   "metadata": {
    "deletable": false,
    "editable": false
   },
   "outputs": [
    {
     "data": {
      "text/html": [
       "<p><strong><pre style='display: inline;'>q10</pre></strong> passed!</p>"
      ],
      "text/plain": [
       "q10 results: All test cases passed!"
      ]
     },
     "execution_count": 33,
     "metadata": {},
     "output_type": "execute_result"
    }
   ],
   "source": [
    "grader.check(\"q10\")"
   ]
  },
  {
   "cell_type": "markdown",
   "id": "962a19b7",
   "metadata": {
    "deletable": false,
    "editable": false
   },
   "source": [
    "**Question 11:** What is the **average** `stellar_age` (in *gigayears*) of **all** the stars in the `stars_dict` **dictionary** whose names **start with** `\"Kepler\"`?\n",
    "\n",
    "Your output **must** be a **float**. You **must** skip all stars with **missing** `stellar_age` data."
   ]
  },
  {
   "cell_type": "code",
   "execution_count": 34,
   "id": "642cc569",
   "metadata": {
    "tags": []
   },
   "outputs": [
    {
     "data": {
      "text/plain": [
       "4.217130505709642"
      ]
     },
     "execution_count": 34,
     "metadata": {},
     "output_type": "execute_result"
    }
   ],
   "source": [
    "# compute and store the answer in the variable 'avg_age_kepler', then display it\n",
    "kepler_age_total = 0\n",
    "kepler_starts_with_total = 0\n",
    "\n",
    "for star in stars_dict:\n",
    "    if star.startswith(\"Kepler\"):\n",
    "        star_age = (stars_dict[star]).stellar_age\n",
    "        if star_age == None:\n",
    "            continue\n",
    "        kepler_starts_with_total += 1\n",
    "        kepler_age_total += star_age\n",
    "        \n",
    "avg_age_kepler = kepler_age_total/kepler_starts_with_total\n",
    "avg_age_kepler"
   ]
  },
  {
   "cell_type": "code",
   "execution_count": 35,
   "id": "86c6f990",
   "metadata": {
    "deletable": false,
    "editable": false
   },
   "outputs": [
    {
     "data": {
      "text/html": [
       "<p><strong><pre style='display: inline;'>q11</pre></strong> passed!</p>"
      ],
      "text/plain": [
       "q11 results: All test cases passed!"
      ]
     },
     "execution_count": 35,
     "metadata": {},
     "output_type": "execute_result"
    }
   ],
   "source": [
    "grader.check(\"q11\")"
   ]
  },
  {
   "cell_type": "markdown",
   "id": "7485a097",
   "metadata": {
    "deletable": false,
    "editable": false
   },
   "source": [
    "### Data Structure 3: namedtuple `Planet`\n",
    "\n",
    "Just as you did with the stars, you will be using namedtuples to store the data about the planets in the `planets_1.csv`, ..., `planets_5.csv` files. Before you start reading these files however, you **must** create a new `Planet` type (using namedtuple). It **must** have the following attributes:\n",
    "\n",
    "* `planet_name`\n",
    "* `host_name`\n",
    "* `discovery_method`\n",
    "* `discovery_year`\n",
    "* `controversial_flag`\n",
    "* `orbital_period`\n",
    "* `planet_radius`\n",
    "* `planet_mass`\n",
    "* `semi_major_radius`\n",
    "* `eccentricity`\n",
    "* `equilibrium_temperature`\n",
    "* `insolation_flux`"
   ]
  },
  {
   "cell_type": "code",
   "execution_count": 36,
   "id": "33a70ada",
   "metadata": {
    "lines_to_next_cell": 0,
    "tags": []
   },
   "outputs": [],
   "source": [
    "# define the namedtuple 'Planet' here\n",
    "planet_attributes = ['planet_name',\n",
    "                  'host_name',\n",
    "                  'discovery_method',\n",
    "                  'discovery_year',\n",
    "                  'controversial_flag',\n",
    "                  'orbital_period',\n",
    "                  'planet_radius', \n",
    "                  'planet_mass',\n",
    "                  'semi_major_radius',\n",
    "                  'eccentricity',\n",
    "                  'equilibrium_temperature',\n",
    "                  'insolation_flux']\n",
    "\n",
    "Planet = namedtuple(\"Planet\", planet_attributes)"
   ]
  },
  {
   "cell_type": "code",
   "execution_count": 37,
   "id": "cfcaac26",
   "metadata": {
    "tags": []
   },
   "outputs": [
    {
     "data": {
      "text/plain": [
       "Planet(planet_name='Jupiter', host_name='Sun', discovery_method='Imaging', discovery_year=1610, controversial_flag=False, orbital_period=4333.0, planet_radius=11.209, planet_mass=317.828, semi_major_radius=5.2038, eccentricity=0.0489, equilibrium_temperature=110, insolation_flux=0.0345)"
      ]
     },
     "execution_count": 37,
     "metadata": {},
     "output_type": "execute_result"
    }
   ],
   "source": [
    "# run this following cell to initialize and test an example Planet object\n",
    "# if this cell fails to execute, you have likely not defined the namedtuple 'Star' correctly\n",
    "jupiter = Planet('Jupiter', 'Sun', 'Imaging', 1610, False, 4333.0, 11.209, 317.828, 5.2038, 0.0489, 110, 0.0345)\n",
    "\n",
    "jupiter"
   ]
  },
  {
   "cell_type": "code",
   "execution_count": 38,
   "id": "89a49e74",
   "metadata": {
    "deletable": false,
    "editable": false
   },
   "outputs": [
    {
     "data": {
      "text/html": [
       "<p><strong><pre style='display: inline;'>planet_object</pre></strong> passed!</p>"
      ],
      "text/plain": [
       "planet_object results: All test cases passed!"
      ]
     },
     "execution_count": 38,
     "metadata": {},
     "output_type": "execute_result"
    }
   ],
   "source": [
    "grader.check(\"planet_object\")"
   ]
  },
  {
   "cell_type": "markdown",
   "id": "db876580",
   "metadata": {
    "deletable": false,
    "editable": false
   },
   "source": [
    "### Creating `Planet` objects\n",
    "\n",
    "We are now ready to read the files in the `data` directory and create `Planet` objects. Creating `Planet` objects however, is going to be more difficult than creating `Star` objects, because the data required to create a single `Planet` object is split up into different files.\n",
    "\n",
    "The `planets_1.csv`, ..., `planets_5.csv` files contain all the data required to create `Planet` objects **except** for the `host_name`. The `host_name` for each planet is to be found in the `mapping_1.json`, ..., `mapping_5.json` files."
   ]
  },
  {
   "cell_type": "markdown",
   "id": "4ac20400",
   "metadata": {
    "deletable": false,
    "editable": false
   },
   "source": [
    "First, let us read the data in `planets_1.csv`. Since this is a CSV file, you can use the `process_csv` function from above to read this file. In the cell below, you **must** read the data in `planets_1.csv` and extract the **header** and the non-header **rows** of the file."
   ]
  },
  {
   "cell_type": "code",
   "execution_count": 39,
   "id": "f52e9eac",
   "metadata": {
    "tags": []
   },
   "outputs": [],
   "source": [
    "# replace the ... with your code\n",
    "\n",
    "planets_1_csv = process_csv(os.path.join(\"data\", \"planets_1.csv\")) # read the data in 'planets_1.csv'\n",
    "planets_header = planets_1_csv[0]\n",
    "planets_rows = planets_1_csv[1:]\n"
   ]
  },
  {
   "cell_type": "markdown",
   "id": "8f5b8055",
   "metadata": {
    "deletable": false,
    "editable": false
   },
   "source": [
    "If you wish to **verify** that you have read the file and defined the variables correctly, you can check that `planets_header` has the value:\n",
    "\n",
    "```python\n",
    "['Planet Name', 'Discovery Method', 'Discovery Year', 'Controversial Flag', 'Orbital Period [days]',\n",
    " 'Planet Radius [Earth Radius]', 'Planet Mass [Earth Mass]', 'Orbit Semi-Major Axis [au]',\n",
    " 'Eccentricity', 'Equilibrium Temperature [K]', 'Insolation Flux [Earth Flux]']\n",
    "```\n",
    "\n",
    "and that `planets_rows` has **1508** rows of which the **first three** are:\n",
    "\n",
    "```python\n",
    "[['11 Com b', 'Radial Velocity', '2007', '0', '326.03', '12.1', '6165.6', '1.29', '0.231', '', ''],\n",
    " ['11 UMi b', 'Radial Velocity', '2009', '0', '516.21997', '12.3', '4684.8142', '1.53', '0.08', '', ''],\n",
    " ['14 And b', 'Radial Velocity', '2008', '0', '185.84', '12.9', '1525.5', '0.83', '0', '', '']]\n",
    "```"
   ]
  },
  {
   "cell_type": "markdown",
   "id": "02946505",
   "metadata": {
    "deletable": false,
    "editable": false
   },
   "source": [
    "Now, you are ready to read the data in `mapping_1.json`. Since this is a JSON file, you will need to copy/paste the `read_json` function lab-p10, and use it to read the file."
   ]
  },
  {
   "cell_type": "code",
   "execution_count": 40,
   "id": "6badd534",
   "metadata": {
    "tags": []
   },
   "outputs": [],
   "source": [
    "# copy & paste the read_json file from lab-p10\n",
    "def read_json(path):\n",
    "    with open(path, encoding=\"utf-8\") as f:\n",
    "        return json.load(f)"
   ]
  },
  {
   "cell_type": "code",
   "execution_count": 41,
   "id": "c5dad7de",
   "metadata": {
    "tags": []
   },
   "outputs": [
    {
     "data": {
      "text/plain": [
       "{'11 Com b': '11 Com',\n",
       " '11 UMi b': '11 UMi',\n",
       " '14 And b': '14 And',\n",
       " '16 Cyg B b': '16 Cyg B',\n",
       " '17 Sco b': '17 Sco',\n",
       " '18 Del b': '18 Del',\n",
       " '1RXS J160929.1-210524 b': '1RXS J160929.1-210524',\n",
       " '24 Boo b': '24 Boo',\n",
       " '2M0437 b': '2MASS J04372171+2651014',\n",
       " '2MASS J01033563-5515561 AB b': '2MASS J01033563-5515561 A',\n",
       " '2MASS J01225093-2439505 b': '2MASS J01225093-2439505',\n",
       " '2MASS J02192210-3925225 b': '2MASS J02192210-3925225',\n",
       " '2MASS J04414489+2301513 b': '2MASS J04414489+2301513',\n",
       " '2MASS J12073346-3932539 b': '2MASS J12073346-3932539',\n",
       " '2MASS J21402931+1625183 A b': '2MASS J21402931+1625183 A',\n",
       " '2MASS J22362452+4751425 b': '2MASS J22362452+4751425',\n",
       " '30 Ari B b': '30 Ari B',\n",
       " '4 UMa b': '4 UMa',\n",
       " '42 Dra b': '42 Dra',\n",
       " '51 Eri b': '51 Eri',\n",
       " '51 Peg b': '51 Peg',\n",
       " '6 Lyn b': '6 Lyn',\n",
       " '70 Vir b': '70 Vir',\n",
       " '75 Cet b': '75 Cet',\n",
       " '8 UMi b': '8 UMi',\n",
       " '81 Cet b': '81 Cet',\n",
       " '91 Aqr b': '91 Aqr',\n",
       " 'AB Aur b': 'AB Aur',\n",
       " 'AB Pic b': 'AB Pic',\n",
       " 'BD+03 2562 b': 'BD+03 2562',\n",
       " 'BD+14 4559 b': 'BD+14 4559',\n",
       " 'BD+15 2375 b': 'BD+15 2375',\n",
       " 'BD+15 2940 b': 'BD+15 2940',\n",
       " 'BD+20 274 b': 'BD+20 274',\n",
       " 'BD+20 594 b': 'BD+20 594',\n",
       " 'BD+45 564 b': 'BD+45 564',\n",
       " 'BD+48 738 b': 'BD+48 738',\n",
       " 'BD+48 740 b': 'BD+48 740',\n",
       " 'BD+49 828 b': 'BD+49 828',\n",
       " 'BD+55 362 b': 'BD+55 362',\n",
       " 'BD+60 1417 b': 'BD+60 1417',\n",
       " 'BD+63 1405 b': 'BD+63 1405',\n",
       " 'BD-00 4475 b': 'BD-00 4475',\n",
       " 'BD-10 3166 b': 'BD-10 3166',\n",
       " 'BD-13 2130 b': 'BD-13 2130',\n",
       " 'BD-17 63 b': 'BD-17 63',\n",
       " 'CD Cet b': 'CD Cet',\n",
       " 'CFBDSIR J145829+101343 b': 'CFBDSIR J145829+101343',\n",
       " 'CFHTWIR-Oph 98 b': 'CFHTWIR-Oph 98 A',\n",
       " 'CHXR 73 b': 'CHXR 73',\n",
       " 'CI Tau b': 'CI Tau',\n",
       " 'COCONUTS-2 b': 'COCONUTS-2 A',\n",
       " 'CT Cha b': 'CT Cha',\n",
       " 'CoRoT-1 b': 'CoRoT-1',\n",
       " 'CoRoT-10 b': 'CoRoT-10',\n",
       " 'CoRoT-11 b': 'CoRoT-11',\n",
       " 'CoRoT-12 b': 'CoRoT-12',\n",
       " 'CoRoT-13 b': 'CoRoT-13',\n",
       " 'CoRoT-14 b': 'CoRoT-14',\n",
       " 'CoRoT-16 b': 'CoRoT-16',\n",
       " 'CoRoT-17 b': 'CoRoT-17',\n",
       " 'CoRoT-18 b': 'CoRoT-18',\n",
       " 'CoRoT-19 b': 'CoRoT-19',\n",
       " 'CoRoT-2 b': 'CoRoT-2',\n",
       " 'CoRoT-21 b': 'CoRoT-21',\n",
       " 'CoRoT-22 b': 'CoRoT-22',\n",
       " 'CoRoT-23 b': 'CoRoT-23',\n",
       " 'CoRoT-25 b': 'CoRoT-25',\n",
       " 'CoRoT-26 b': 'CoRoT-26',\n",
       " 'CoRoT-27 b': 'CoRoT-27',\n",
       " 'CoRoT-28 b': 'CoRoT-28',\n",
       " 'CoRoT-29 b': 'CoRoT-29',\n",
       " 'CoRoT-3 b': 'CoRoT-3',\n",
       " 'CoRoT-30 b': 'CoRoT-30',\n",
       " 'CoRoT-31 b': 'CoRoT-31',\n",
       " 'CoRoT-35 b': 'CoRoT-35',\n",
       " 'CoRoT-36 b': 'CoRoT-36',\n",
       " 'CoRoT-4 b': 'CoRoT-4',\n",
       " 'CoRoT-5 b': 'CoRoT-5',\n",
       " 'CoRoT-6 b': 'CoRoT-6',\n",
       " 'CoRoT-8 b': 'CoRoT-8',\n",
       " 'CoRoT-9 b': 'CoRoT-9',\n",
       " 'CoRoTID 223977153 b': 'CoRoTID 223977153',\n",
       " 'DE CVn b': 'DE CVn',\n",
       " 'DENIS-P J082303.1-491201 b': 'DENIS-P J082303.1-491201',\n",
       " 'DH Tau b': 'DH Tau',\n",
       " 'DMPP-2 b': 'DMPP-2',\n",
       " 'DMPP-3 A b': 'DMPP-3 A',\n",
       " 'DP Leo b': 'DP Leo',\n",
       " 'DS Tuc A b': 'DS Tuc A',\n",
       " 'EPIC 201170410.02': 'EPIC 201170410',\n",
       " 'EPIC 201238110 b': 'EPIC 201238110',\n",
       " 'EPIC 201427007 b': 'EPIC 201427007',\n",
       " 'EPIC 201497682 b': 'EPIC 201497682',\n",
       " 'EPIC 201595106 b': 'EPIC 201595106',\n",
       " 'EPIC 201757695.02': 'EPIC 201757695',\n",
       " 'EPIC 201841433 b': 'EPIC 201841433',\n",
       " 'EPIC 206032309 b': 'EPIC 206032309',\n",
       " 'EPIC 206215704 b': 'EPIC 206215704',\n",
       " 'EPIC 211822797 b': 'EPIC 211822797',\n",
       " 'EPIC 211945201 b': 'EPIC 211945201',\n",
       " 'EPIC 212424622 b': 'EPIC 212424622',\n",
       " 'EPIC 212499991 b': 'EPIC 212499991',\n",
       " 'EPIC 220492298 b': 'EPIC 220492298',\n",
       " 'EPIC 228836835 b': 'EPIC 228836835',\n",
       " 'EPIC 246851721 b': 'EPIC 246851721',\n",
       " 'EPIC 248847494 b': 'EPIC 248847494',\n",
       " 'FU Tau b': 'FU Tau',\n",
       " 'G 9-40 b': 'G 9-40',\n",
       " 'GJ 1214 b': 'GJ 1214',\n",
       " 'GJ 1252 b': 'GJ 1252',\n",
       " 'GJ 1265 b': 'GJ 1265',\n",
       " 'GJ 160.2 b': 'GJ 160.2',\n",
       " 'GJ 179 b': 'GJ 179',\n",
       " 'GJ 2056 b': 'GJ 2056',\n",
       " 'GJ 251 b': 'GJ 251',\n",
       " 'GJ 27.1 b': 'GJ 27.1',\n",
       " 'GJ 3021 b': 'GJ 3021',\n",
       " 'GJ 3082 b': 'GJ 3082',\n",
       " 'GJ 3090 b': 'GJ 3090',\n",
       " 'GJ 3222 b': 'GJ 3222',\n",
       " 'GJ 328 b': 'GJ 328',\n",
       " 'GJ 3341 b': 'GJ 3341',\n",
       " 'GJ 338 B b': 'GJ 338 B',\n",
       " 'GJ 3470 b': 'GJ 3470',\n",
       " 'GJ 3634 b': 'GJ 3634',\n",
       " 'GJ 367 b': 'GJ 367',\n",
       " 'GJ 3779 b': 'GJ 3779',\n",
       " 'GJ 393 b': 'GJ 393',\n",
       " 'GJ 3942 b': 'GJ 3942',\n",
       " 'GJ 422 b': 'GJ 422',\n",
       " 'GJ 4276 b': 'GJ 4276',\n",
       " 'GJ 436 b': 'GJ 436',\n",
       " 'GJ 480 b': 'GJ 480',\n",
       " 'GJ 486 b': 'GJ 486',\n",
       " 'GJ 504 b': 'GJ 504',\n",
       " 'GJ 514 b': 'GJ 514',\n",
       " 'GJ 536 b': 'GJ 536',\n",
       " 'GJ 625 b': 'GJ 625',\n",
       " 'GJ 649 b': 'GJ 649',\n",
       " 'GJ 674 b': 'GJ 674',\n",
       " 'GJ 680 b': 'GJ 680',\n",
       " 'GJ 685 b': 'GJ 685',\n",
       " 'GJ 720 A b': 'GJ 720 A',\n",
       " 'GJ 740 b': 'GJ 740',\n",
       " 'GJ 832 b': 'GJ 832',\n",
       " 'GJ 86 b': 'GJ 86',\n",
       " 'GJ 896 A b': 'GJ 896 A',\n",
       " 'GJ 9066 c': 'GJ 9066',\n",
       " 'GJ 96 b': 'GJ 96',\n",
       " 'GJ 9689 b': 'GJ 9689',\n",
       " 'GJ 9714 b': 'GJ 9714',\n",
       " 'GPX-1 b': 'GPX-1',\n",
       " 'GQ Lup b': 'GQ Lup',\n",
       " 'GSC 06214-00210 b': 'GSC 06214-00210',\n",
       " 'GU Psc b': 'GU Psc',\n",
       " 'Gaia-1 b': 'Gaia-1',\n",
       " 'Gaia-2 b': 'Gaia-2',\n",
       " 'Gl 378 b': 'Gl 378',\n",
       " 'Gl 49 b': 'Gl 49',\n",
       " 'Gl 686 b': 'Gl 686',\n",
       " 'HAT-P-1 b': 'HAT-P-1',\n",
       " 'HAT-P-12 b': 'HAT-P-12',\n",
       " 'HAT-P-14 b': 'HAT-P-14',\n",
       " 'HAT-P-15 b': 'HAT-P-15',\n",
       " 'HAT-P-16 b': 'HAT-P-16',\n",
       " 'HAT-P-18 b': 'HAT-P-18',\n",
       " 'HAT-P-19 b': 'HAT-P-19',\n",
       " 'HAT-P-2 b': 'HAT-P-2',\n",
       " 'HAT-P-20 b': 'HAT-P-20',\n",
       " 'HAT-P-21 b': 'HAT-P-21',\n",
       " 'HAT-P-22 b': 'HAT-P-22',\n",
       " 'HAT-P-23 b': 'HAT-P-23',\n",
       " 'HAT-P-24 b': 'HAT-P-24',\n",
       " 'HAT-P-25 b': 'HAT-P-25',\n",
       " 'HAT-P-26 b': 'HAT-P-26',\n",
       " 'HAT-P-27 b': 'HAT-P-27',\n",
       " 'HAT-P-28 b': 'HAT-P-28',\n",
       " 'HAT-P-29 b': 'HAT-P-29',\n",
       " 'HAT-P-3 b': 'HAT-P-3',\n",
       " 'HAT-P-30 b': 'HAT-P-30',\n",
       " 'HAT-P-31 b': 'HAT-P-31',\n",
       " 'HAT-P-32 b': 'HAT-P-32',\n",
       " 'HAT-P-33 b': 'HAT-P-33',\n",
       " 'HAT-P-34 b': 'HAT-P-34',\n",
       " 'HAT-P-35 b': 'HAT-P-35',\n",
       " 'HAT-P-36 b': 'HAT-P-36',\n",
       " 'HAT-P-37 b': 'HAT-P-37',\n",
       " 'HAT-P-38 b': 'HAT-P-38',\n",
       " 'HAT-P-39 b': 'HAT-P-39',\n",
       " 'HAT-P-4 b': 'HAT-P-4',\n",
       " 'HAT-P-40 b': 'HAT-P-40',\n",
       " 'HAT-P-41 b': 'HAT-P-41',\n",
       " 'HAT-P-42 b': 'HAT-P-42',\n",
       " 'HAT-P-43 b': 'HAT-P-43',\n",
       " 'HAT-P-45 b': 'HAT-P-45',\n",
       " 'HAT-P-46 b': 'HAT-P-46',\n",
       " 'HAT-P-49 b': 'HAT-P-49',\n",
       " 'HAT-P-5 b': 'HAT-P-5',\n",
       " 'HAT-P-50 b': 'HAT-P-50',\n",
       " 'HAT-P-51 b': 'HAT-P-51',\n",
       " 'HAT-P-52 b': 'HAT-P-52',\n",
       " 'HAT-P-53 b': 'HAT-P-53',\n",
       " 'HAT-P-54 b': 'HAT-P-54',\n",
       " 'HAT-P-55 b': 'HAT-P-55',\n",
       " 'HAT-P-56 b': 'HAT-P-56',\n",
       " 'HAT-P-57 b': 'HAT-P-57',\n",
       " 'HAT-P-58 b': 'HAT-P-58',\n",
       " 'HAT-P-59 b': 'HAT-P-59',\n",
       " 'HAT-P-6 b': 'HAT-P-6',\n",
       " 'HAT-P-60 b': 'HAT-P-60',\n",
       " 'HAT-P-61 b': 'HAT-P-61',\n",
       " 'HAT-P-62 b': 'HAT-P-62',\n",
       " 'HAT-P-63 b': 'HAT-P-63',\n",
       " 'HAT-P-64 b': 'HAT-P-64',\n",
       " 'HAT-P-65 b': 'HAT-P-65',\n",
       " 'HAT-P-66 b': 'HAT-P-66',\n",
       " 'HAT-P-67 b': 'HAT-P-67',\n",
       " 'HAT-P-68 b': 'HAT-P-68',\n",
       " 'HAT-P-69 b': 'HAT-P-69',\n",
       " 'HAT-P-7 b': 'HAT-P-7',\n",
       " 'HAT-P-70 b': 'HAT-P-70',\n",
       " 'HAT-P-8 b': 'HAT-P-8',\n",
       " 'HAT-P-9 b': 'HAT-P-9',\n",
       " 'HATS-1 b': 'HATS-1',\n",
       " 'HATS-10 b': 'HATS-10',\n",
       " 'HATS-11 b': 'HATS-11',\n",
       " 'HATS-12 b': 'HATS-12',\n",
       " 'HATS-13 b': 'HATS-13',\n",
       " 'HATS-14 b': 'HATS-14',\n",
       " 'HATS-15 b': 'HATS-15',\n",
       " 'HATS-16 b': 'HATS-16',\n",
       " 'HATS-17 b': 'HATS-17',\n",
       " 'HATS-18 b': 'HATS-18',\n",
       " 'HATS-2 b': 'HATS-2',\n",
       " 'HATS-22 b': 'HATS-22',\n",
       " 'HATS-23 b': 'HATS-23',\n",
       " 'HATS-24 b': 'HATS-24',\n",
       " 'HATS-25 b': 'HATS-25',\n",
       " 'HATS-26 b': 'HATS-26',\n",
       " 'HATS-27 b': 'HATS-27',\n",
       " 'HATS-28 b': 'HATS-28',\n",
       " 'HATS-29 b': 'HATS-29',\n",
       " 'HATS-3 b': 'HATS-3',\n",
       " 'HATS-30 b': 'HATS-30',\n",
       " 'HATS-31 b': 'HATS-31',\n",
       " 'HATS-32 b': 'HATS-32',\n",
       " 'HATS-33 b': 'HATS-33',\n",
       " 'HATS-34 b': 'HATS-34',\n",
       " 'HATS-35 b': 'HATS-35',\n",
       " 'HATS-36 b': 'HATS-36',\n",
       " 'HATS-37 A b': 'HATS-37 A',\n",
       " 'HATS-38 b': 'HATS-38',\n",
       " 'HATS-39 b': 'HATS-39',\n",
       " 'HATS-4 b': 'HATS-4',\n",
       " 'HATS-40 b': 'HATS-40',\n",
       " 'HATS-41 b': 'HATS-41',\n",
       " 'HATS-42 b': 'HATS-42',\n",
       " 'HATS-43 b': 'HATS-43',\n",
       " 'HATS-44 b': 'HATS-44',\n",
       " 'HATS-45 b': 'HATS-45',\n",
       " 'HATS-46 b': 'HATS-46',\n",
       " 'HATS-47 b': 'HATS-47',\n",
       " 'HATS-48 A b': 'HATS-48 A',\n",
       " 'HATS-49 b': 'HATS-49',\n",
       " 'HATS-5 b': 'HATS-5',\n",
       " 'HATS-50 b': 'HATS-50',\n",
       " 'HATS-51 b': 'HATS-51',\n",
       " 'HATS-52 b': 'HATS-52',\n",
       " 'HATS-53 b': 'HATS-53',\n",
       " 'HATS-54 b': 'HATS-54',\n",
       " 'HATS-55 b': 'HATS-55',\n",
       " 'HATS-56 b': 'HATS-56',\n",
       " 'HATS-57 b': 'HATS-57',\n",
       " 'HATS-58 A b': 'HATS-58 A',\n",
       " 'HATS-6 b': 'HATS-6',\n",
       " 'HATS-60 b': 'HATS-60',\n",
       " 'HATS-61 b': 'HATS-61',\n",
       " 'HATS-62 b': 'HATS-62',\n",
       " 'HATS-63 b': 'HATS-63',\n",
       " 'HATS-64 b': 'HATS-64',\n",
       " 'HATS-65 b': 'HATS-65',\n",
       " 'HATS-66 b': 'HATS-66',\n",
       " 'HATS-67 b': 'HATS-67',\n",
       " 'HATS-68 b': 'HATS-68',\n",
       " 'HATS-69 b': 'HATS-69',\n",
       " 'HATS-7 b': 'HATS-7',\n",
       " 'HATS-70 b': 'HATS-70',\n",
       " 'HATS-71 b': 'HATS-71',\n",
       " 'HATS-72 b': 'HATS-72',\n",
       " 'HATS-74 A b': 'HATS-74 A',\n",
       " 'HATS-75 b': 'HATS-75',\n",
       " 'HATS-76 b': 'HATS-76',\n",
       " 'HATS-77 b': 'HATS-77',\n",
       " 'HATS-8 b': 'HATS-8',\n",
       " 'HATS-9 b': 'HATS-9',\n",
       " 'HD 100546 b': 'HD 100546',\n",
       " 'HD 100655 b': 'HD 100655',\n",
       " 'HD 100777 b': 'HD 100777',\n",
       " 'HD 101930 b': 'HD 101930',\n",
       " 'HD 102117 b': 'HD 102117',\n",
       " 'HD 102195 b': 'HD 102195',\n",
       " 'HD 102272 b': 'HD 102272',\n",
       " 'HD 102365 b': 'HD 102365',\n",
       " 'HD 102843 b': 'HD 102843',\n",
       " 'HD 102956 b': 'HD 102956',\n",
       " 'HD 103197 b': 'HD 103197',\n",
       " 'HD 103720 b': 'HD 103720',\n",
       " 'HD 103774 b': 'HD 103774',\n",
       " 'HD 103891 b': 'HD 103891',\n",
       " 'HD 103949 b': 'HD 103949',\n",
       " 'HD 104067 b': 'HD 104067',\n",
       " 'HD 10442 b': 'HD 10442',\n",
       " 'HD 104985 b': 'HD 104985',\n",
       " 'HD 105779 b': 'HD 105779',\n",
       " 'HD 106252 b': 'HD 106252',\n",
       " 'HD 106270 b': 'HD 106270',\n",
       " 'HD 10647 b': 'HD 10647',\n",
       " 'HD 106515 A b': 'HD 106515 A',\n",
       " 'HD 106906 b': 'HD 106906',\n",
       " 'HD 10697 b': 'HD 10697',\n",
       " 'HD 108147 b': 'HD 108147',\n",
       " 'HD 108341 b': 'HD 108341',\n",
       " 'HD 108863 b': 'HD 108863',\n",
       " 'HD 109246 b': 'HD 109246',\n",
       " 'HD 109286 b': 'HD 109286',\n",
       " 'HD 109749 b': 'HD 109749',\n",
       " 'HD 10975 b': 'HD 10975',\n",
       " 'HD 109988 b': 'HD 109988',\n",
       " 'HD 110014 b': 'HD 110014',\n",
       " 'HD 110082 b': 'HD 110082',\n",
       " 'HD 110537 b': 'HD 110537',\n",
       " 'HD 11112 b': 'HD 11112',\n",
       " 'HD 111591 b': 'HD 111591',\n",
       " 'HD 111998 b': 'HD 111998',\n",
       " 'HD 112640 b': 'HD 112640',\n",
       " 'HD 113996 b': 'HD 113996',\n",
       " 'HD 114386 b': 'HD 114386',\n",
       " 'HD 114613 b': 'HD 114613',\n",
       " 'HD 114729 b': 'HD 114729',\n",
       " 'HD 11505 b': 'HD 11505',\n",
       " 'HD 115954 b': 'HD 115954',\n",
       " 'HD 117207 b': 'HD 117207',\n",
       " 'HD 11755 b': 'HD 11755',\n",
       " 'HD 117618 b': 'HD 117618',\n",
       " 'HD 118203 b': 'HD 118203',\n",
       " 'HD 11977 b': 'HD 11977',\n",
       " 'HD 120084 b': 'HD 120084',\n",
       " 'HD 121504 b': 'HD 121504',\n",
       " 'HD 122562 c': 'HD 122562',\n",
       " 'HD 124330 b': 'HD 124330',\n",
       " 'HD 12484 b': 'HD 12484',\n",
       " 'HD 125271 b': 'HD 125271',\n",
       " 'HD 125390 b': 'HD 125390',\n",
       " 'HD 125595 b': 'HD 125595',\n",
       " 'HD 12648 b': 'HD 12648',\n",
       " 'HD 126525 b': 'HD 126525',\n",
       " 'HD 126614 b': 'HD 126614',\n",
       " 'HD 127506 b': 'HD 127506',\n",
       " 'HD 128356 b': 'HD 128356',\n",
       " 'HD 129445 b': 'HD 129445',\n",
       " 'HD 130322 b': 'HD 130322',\n",
       " 'HD 131496 b': 'HD 131496',\n",
       " 'HD 13167 b': 'HD 13167',\n",
       " 'HD 13189 b': 'HD 13189',\n",
       " 'HD 132406 b': 'HD 132406',\n",
       " 'HD 132563 b': 'HD 132563',\n",
       " 'HD 133131 B b': 'HD 133131 B',\n",
       " 'HD 135872 b': 'HD 135872',\n",
       " 'HD 136118 b': 'HD 136118',\n",
       " 'HD 136418 b': 'HD 136418',\n",
       " 'HD 136925 b': 'HD 136925',\n",
       " 'HD 13724 c': 'HD 13724',\n",
       " 'HD 137388 b': 'HD 137388',\n",
       " 'HD 13931 b': 'HD 13931',\n",
       " 'HD 139357 b': 'HD 139357',\n",
       " 'HD 1397 b': 'HD 1397',\n",
       " 'HD 14067 b': 'HD 14067',\n",
       " 'HD 141004 b': 'HD 141004',\n",
       " 'HD 141937 b': 'HD 141937',\n",
       " 'HD 142022 A b': 'HD 142022 A',\n",
       " 'HD 142245 b': 'HD 142245',\n",
       " 'HD 142415 b': 'HD 142415',\n",
       " 'HD 143105 b': 'HD 143105',\n",
       " 'HD 143361 b': 'HD 143361',\n",
       " 'HD 144899 b': 'HD 144899',\n",
       " 'HD 145377 b': 'HD 145377',\n",
       " 'HD 145457 b': 'HD 145457',\n",
       " 'HD 145934 b': 'HD 145934',\n",
       " 'HD 147379 b': 'HD 147379',\n",
       " 'HD 147513 b': 'HD 147513',\n",
       " 'HD 14787 b': 'HD 14787',\n",
       " 'HD 148156 b': 'HD 148156',\n",
       " 'HD 148427 b': 'HD 148427',\n",
       " 'HD 149026 b': 'HD 149026',\n",
       " 'HD 149143 b': 'HD 149143',\n",
       " 'HD 149806 b': 'HD 149806',\n",
       " 'HD 150010 b': 'HD 150010',\n",
       " 'HD 1502 b': 'HD 1502',\n",
       " 'HD 150706 b': 'HD 150706',\n",
       " 'HD 152079 b': 'HD 152079',\n",
       " 'HD 152581 b': 'HD 152581',\n",
       " 'HD 153950 b': 'HD 153950',\n",
       " 'HD 154088 b': 'HD 154088',\n",
       " 'HD 154345 b': 'HD 154345',\n",
       " 'HD 154672 b': 'HD 154672',\n",
       " 'HD 155193 b': 'HD 155193',\n",
       " 'HD 155233 b': 'HD 155233',\n",
       " 'HD 156411 b': 'HD 156411',\n",
       " 'HD 156846 b': 'HD 156846',\n",
       " 'HD 158038 b': 'HD 158038',\n",
       " 'HD 158996 b': 'HD 158996',\n",
       " 'HD 161178 b': 'HD 161178',\n",
       " 'HD 16141 b': 'HD 16141',\n",
       " 'HD 16175 b': 'HD 16175',\n",
       " 'HD 162020 b': 'HD 162020',\n",
       " 'HD 16417 b': 'HD 16417',\n",
       " 'HD 164509 b': 'HD 164509',\n",
       " 'HD 164595 b': 'HD 164595',\n",
       " 'HD 164604 b': 'HD 164604',\n",
       " 'HD 165155 b': 'HD 165155',\n",
       " 'HD 1666 b': 'HD 1666',\n",
       " 'HD 166724 b': 'HD 166724',\n",
       " 'HD 167042 b': 'HD 167042',\n",
       " 'HD 168009 b': 'HD 168009',\n",
       " 'HD 168746 b': 'HD 168746',\n",
       " 'HD 168863 b': 'HD 168863',\n",
       " 'HD 1690 b': 'HD 1690',\n",
       " 'HD 16905 b': 'HD 16905',\n",
       " 'HD 170469 b': 'HD 170469',\n",
       " 'HD 17092 b': 'HD 17092',\n",
       " 'HD 171028 b': 'HD 171028',\n",
       " 'HD 171238 b': 'HD 171238',\n",
       " 'HD 17156 b': 'HD 17156',\n",
       " 'HD 173416 b': 'HD 173416',\n",
       " 'HD 174205 b': 'HD 174205',\n",
       " 'HD 175167 b': 'HD 175167',\n",
       " 'HD 175541 b': 'HD 175541',\n",
       " 'HD 175607 b': 'HD 175607',\n",
       " 'HD 17674 b': 'HD 17674',\n",
       " 'HD 177565 b': 'HD 177565',\n",
       " 'HD 178911 B b': 'HD 178911 B',\n",
       " 'HD 179079 b': 'HD 179079',\n",
       " 'HD 179949 b': 'HD 179949',\n",
       " 'HD 180053 b': 'HD 180053',\n",
       " 'HD 18015 b': 'HD 18015',\n",
       " 'HD 180314 b': 'HD 180314',\n",
       " 'HD 180617 b': 'HD 180617',\n",
       " 'HD 180902 b': 'HD 180902',\n",
       " 'HD 181234 b': 'HD 181234',\n",
       " 'HD 181342 b': 'HD 181342',\n",
       " 'HD 181720 b': 'HD 181720',\n",
       " 'HD 183579 b': 'HD 183579',\n",
       " 'HD 185269 b': 'HD 185269',\n",
       " 'HD 187085 b': 'HD 187085',\n",
       " 'HD 18742 b': 'HD 18742',\n",
       " 'HD 188015 b': 'HD 188015',\n",
       " 'HD 188641 b': 'HD 188641',\n",
       " 'HD 189733 b': 'HD 189733',\n",
       " 'HD 190007 b': 'HD 190007',\n",
       " 'HD 190228 b': 'HD 190228',\n",
       " 'HD 190647 b': 'HD 190647',\n",
       " 'HD 190984 b': 'HD 190984',\n",
       " 'HD 191806 b': 'HD 191806',\n",
       " 'HD 192263 b': 'HD 192263',\n",
       " 'HD 192699 b': 'HD 192699',\n",
       " 'HD 194490 b': 'HD 194490',\n",
       " 'HD 195019 b': 'HD 195019',\n",
       " 'HD 196050 b': 'HD 196050',\n",
       " 'HD 196067 b': 'HD 196067',\n",
       " 'HD 19615 b': 'HD 19615',\n",
       " 'HD 196885 A b': 'HD 196885 A',\n",
       " 'HD 197037 b': 'HD 197037',\n",
       " 'HD 199509 b': 'HD 199509',\n",
       " 'HD 19994 b': 'HD 19994',\n",
       " 'HD 202206 c': 'HD 202206',\n",
       " 'HD 202772 A b': 'HD 202772 A',\n",
       " 'HD 203030 b': 'HD 203030',\n",
       " 'HD 203473 b': 'HD 203473',\n",
       " 'HD 2039 b': 'HD 2039',\n",
       " 'HD 204941 b': 'HD 204941',\n",
       " 'HD 205158 b': 'HD 205158',\n",
       " 'HD 205739 b': 'HD 205739',\n",
       " 'HD 206255 b': 'HD 206255',\n",
       " 'HD 206610 b': 'HD 206610',\n",
       " 'HD 20782 b': 'HD 20782',\n",
       " 'HD 207897 b': 'HD 207897',\n",
       " 'HD 208487 b': 'HD 208487',\n",
       " 'HD 208527 b': 'HD 208527',\n",
       " 'HD 20868 b': 'HD 20868',\n",
       " 'HD 208897 b': 'HD 208897',\n",
       " 'HD 209458 b': 'HD 209458',\n",
       " 'HD 210193 b': 'HD 210193',\n",
       " 'HD 210277 b': 'HD 210277',\n",
       " 'HD 210702 b': 'HD 210702',\n",
       " 'HD 211403 b': 'HD 211403',\n",
       " 'HD 211810 b': 'HD 211810',\n",
       " 'HD 211970 b': 'HD 211970',\n",
       " 'HD 212301 b': 'HD 212301',\n",
       " 'HD 212771 b': 'HD 212771',\n",
       " 'HD 213240 b': 'HD 213240',\n",
       " 'HD 213472 b': 'HD 213472',\n",
       " 'HD 213519 b': 'HD 213519',\n",
       " 'HD 21411 b': 'HD 21411',\n",
       " 'HD 214823 b': 'HD 214823',\n",
       " 'HD 216435 b': 'HD 216435',\n",
       " 'HD 216437 b': 'HD 216437',\n",
       " 'HD 216536 b': 'HD 216536',\n",
       " 'HD 216770 b': 'HD 216770',\n",
       " 'HD 217850 b': 'HD 217850',\n",
       " 'HD 217958 b': 'HD 217958',\n",
       " 'HD 218566 b': 'HD 218566',\n",
       " 'HD 219077 b': 'HD 219077',\n",
       " 'HD 219139 b': 'HD 219139',\n",
       " 'HD 219415 b': 'HD 219415',\n",
       " 'HD 219666 b': 'HD 219666',\n",
       " 'HD 220074 b': 'HD 220074',\n",
       " 'HD 220197 b': 'HD 220197',\n",
       " 'HD 220689 b': 'HD 220689',\n",
       " 'HD 220773 b': 'HD 220773',\n",
       " 'HD 220842 b': 'HD 220842',\n",
       " 'HD 221287 b': 'HD 221287',\n",
       " 'HD 221416 b': 'HD 221416',\n",
       " 'HD 221420 b': 'HD 221420',\n",
       " 'HD 221585 b': 'HD 221585',\n",
       " 'HD 222076 b': 'HD 222076',\n",
       " 'HD 222155 b': 'HD 222155',\n",
       " 'HD 222582 b': 'HD 222582',\n",
       " 'HD 224538 b': 'HD 224538',\n",
       " 'HD 224693 b': 'HD 224693',\n",
       " 'HD 22496 b': 'HD 22496',\n",
       " 'HD 22532 b': 'HD 22532',\n",
       " 'HD 22781 b': 'HD 22781',\n",
       " 'HD 23079 b': 'HD 23079',\n",
       " 'HD 23127 b': 'HD 23127',\n",
       " 'HD 231701 b': 'HD 231701',\n",
       " 'HD 233604 b': 'HD 233604',\n",
       " 'HD 233832 b': 'HD 233832',\n",
       " 'HD 23596 b': 'HD 23596',\n",
       " 'HD 238090 b': 'HD 238090',\n",
       " 'HD 238914 b': 'HD 238914',\n",
       " 'HD 240210 b': 'HD 240210',\n",
       " 'HD 240237 b': 'HD 240237',\n",
       " 'HD 24064 b': 'HD 24064',\n",
       " 'HD 24085 b': 'HD 24085',\n",
       " 'HD 25015 b': 'HD 25015',\n",
       " 'HD 25171 b': 'HD 25171',\n",
       " 'HD 25723 b': 'HD 25723',\n",
       " 'HD 26161 b': 'HD 26161',\n",
       " 'HD 2638 b': 'HD 2638',\n",
       " 'HD 2685 b': 'HD 2685',\n",
       " 'HD 26965 b': 'HD 26965',\n",
       " 'HD 27442 b': 'HD 27442',\n",
       " 'HD 27631 b': 'HD 27631',\n",
       " 'HD 27969 b': 'HD 27969',\n",
       " 'HD 28192 b': 'HD 28192',\n",
       " 'HD 28254 b': 'HD 28254',\n",
       " 'HD 285507 b': 'HD 285507',\n",
       " 'HD 285968 b': 'HD 285968',\n",
       " 'HD 28678 b': 'HD 28678',\n",
       " 'HD 29021 b': 'HD 29021',\n",
       " 'HD 290327 b': 'HD 290327',\n",
       " 'HD 29399 b': 'HD 29399',\n",
       " 'HD 2952 b': 'HD 2952',\n",
       " 'HD 29985 b': 'HD 29985',\n",
       " 'HD 30562 b': 'HD 30562',\n",
       " 'HD 30669 b': 'HD 30669',\n",
       " 'HD 30856 b': 'HD 30856',\n",
       " 'HD 31253 b': 'HD 31253',\n",
       " 'HD 32518 b': 'HD 32518',\n",
       " 'HD 32963 b': 'HD 32963',\n",
       " 'HD 330075 b': 'HD 330075',\n",
       " 'HD 331093 b': 'HD 331093',\n",
       " 'HD 332231 b': 'HD 332231',\n",
       " 'HD 33283 b': 'HD 33283',\n",
       " 'HD 33564 b': 'HD 33564',\n",
       " 'HD 35759 b': 'HD 35759',\n",
       " 'HD 360 b': 'HD 360',\n",
       " 'HD 3651 b': 'HD 3651',\n",
       " 'HD 3765 b': 'HD 3765',\n",
       " 'HD 38283 b': 'HD 38283',\n",
       " 'HD 38801 b': 'HD 38801',\n",
       " 'HD 39855 b': 'HD 39855',\n",
       " 'HD 40956 b': 'HD 40956',\n",
       " 'HD 40979 b': 'HD 40979',\n",
       " 'HD 41004 A b': 'HD 41004 A',\n",
       " 'HD 41004 B b': 'HD 41004 B',\n",
       " 'HD 4113 b': 'HD 4113',\n",
       " 'HD 42012 b': 'HD 42012',\n",
       " 'HD 4208 b': 'HD 4208',\n",
       " 'HD 42618 b': 'HD 42618',\n",
       " 'HD 4308 b': 'HD 4308',\n",
       " 'HD 4313 b': 'HD 4313',\n",
       " 'HD 43691 b': 'HD 43691',\n",
       " 'HD 44219 b': 'HD 44219',\n",
       " 'HD 45350 b': 'HD 45350',\n",
       " 'HD 45652 b': 'HD 45652',\n",
       " 'HD 457 b': 'HD 457',\n",
       " 'HD 46375 b': 'HD 46375',\n",
       " 'HD 47536 b': 'HD 47536',\n",
       " 'HD 4760 b': 'HD 4760',\n",
       " 'HD 48265 b': 'HD 48265',\n",
       " 'HD 4917 b': 'HD 4917',\n",
       " 'HD 49674 b': 'HD 49674',\n",
       " 'HD 50554 b': 'HD 50554',\n",
       " 'HD 52265 b': 'HD 52265',\n",
       " 'HD 55696 b': 'HD 55696',\n",
       " 'HD 5583 b': 'HD 5583',\n",
       " 'HD 5608 b': 'HD 5608',\n",
       " 'HD 564 b': 'HD 564',\n",
       " 'HD 56414 b': 'HD 56414',\n",
       " 'HD 56957 b': 'HD 56957',\n",
       " 'HD 5891 b': 'HD 5891',\n",
       " 'HD 59686 A b': 'HD 59686 A',\n",
       " 'HD 60292 b': 'HD 60292',\n",
       " 'HD 62509 b': 'HD 62509',\n",
       " 'HD 62549 b': 'HD 62549',\n",
       " 'HD 63454 b': 'HD 63454',\n",
       " 'HD 63765 b': 'HD 63765',\n",
       " 'HD 64114 b': 'HD 64114',\n",
       " 'HD 64121 b': 'HD 64121',\n",
       " 'HD 6434 b': 'HD 6434',\n",
       " 'HD 66141 b': 'HD 66141',\n",
       " 'HD 6718 b': 'HD 6718',\n",
       " 'HD 68402 b': 'HD 68402',\n",
       " 'HD 69123 b': 'HD 69123',\n",
       " 'HD 70573 b': 'HD 70573',\n",
       " 'HD 70642 b': 'HD 70642',\n",
       " 'HD 7199 b': 'HD 7199',\n",
       " 'HD 72490 b': 'HD 72490',\n",
       " 'HD 72892 b': 'HD 72892',\n",
       " 'HD 73534 b': 'HD 73534',\n",
       " 'HD 7449 b': 'HD 7449',\n",
       " 'HD 75289 b': 'HD 75289',\n",
       " 'HD 75898 b': 'HD 75898',\n",
       " 'HD 76700 b': 'HD 76700',\n",
       " 'HD 76920 b': 'HD 76920',\n",
       " 'HD 77338 b': 'HD 77338',\n",
       " 'HD 79181 b': 'HD 79181',\n",
       " 'HD 79498 b': 'HD 79498',\n",
       " 'HD 80606 b': 'HD 80606',\n",
       " 'HD 80653 b': 'HD 80653',\n",
       " 'HD 80869 b': 'HD 80869',\n",
       " 'HD 80883 b': 'HD 80883',\n",
       " 'HD 80913 b': 'HD 80913',\n",
       " 'HD 81040 b': 'HD 81040',\n",
       " 'HD 81688 b': 'HD 81688',\n",
       " 'HD 82886 b': 'HD 82886',\n",
       " 'HD 8326 b': 'HD 8326',\n",
       " 'HD 8535 b': 'HD 8535',\n",
       " 'HD 85390 b': 'HD 85390',\n",
       " 'HD 85512 b': 'HD 85512',\n",
       " 'HD 8574 b': 'HD 8574',\n",
       " 'HD 86065 b': 'HD 86065',\n",
       " 'HD 86081 b': 'HD 86081',\n",
       " 'HD 86264 b': 'HD 86264',\n",
       " 'HD 8673 b': 'HD 8673',\n",
       " 'HD 86950 b': 'HD 86950',\n",
       " 'HD 87646 b': 'HD 87646',\n",
       " 'HD 87883 b': 'HD 87883',\n",
       " 'HD 88072 b': 'HD 88072',\n",
       " 'HD 88133 b': 'HD 88133',\n",
       " 'HD 89307 b': 'HD 89307',\n",
       " 'HD 89345 b': 'HD 89345',\n",
       " 'HD 89744 b': 'HD 89744',\n",
       " 'HD 90156 b': 'HD 90156',\n",
       " 'HD 9174 b': 'HD 9174',\n",
       " 'HD 93083 b': 'HD 93083',\n",
       " 'HD 94834 b': 'HD 94834',\n",
       " 'HD 95086 b': 'HD 95086',\n",
       " 'HD 95127 b': 'HD 95127',\n",
       " 'HD 95338 b': 'HD 95338',\n",
       " 'HD 95544 b': 'HD 95544',\n",
       " 'HD 95872 b': 'HD 95872',\n",
       " 'HD 96063 b': 'HD 96063',\n",
       " 'HD 96127 b': 'HD 96127',\n",
       " 'HD 96167 b': 'HD 96167',\n",
       " 'HD 96992 b': 'HD 96992',\n",
       " 'HD 97037 b': 'HD 97037',\n",
       " 'HD 97048 b': 'HD 97048',\n",
       " 'HD 97658 b': 'HD 97658',\n",
       " 'HD 98219 b': 'HD 98219',\n",
       " 'HD 98649 b': 'HD 98649',\n",
       " 'HD 98736 b': 'HD 98736',\n",
       " 'HD 99109 b': 'HD 99109',\n",
       " 'HD 99283 b': 'HD 99283',\n",
       " 'HD 99492 b': 'HD 99492',\n",
       " 'HIP 105854 b': 'HIP 105854',\n",
       " 'HIP 107772 b': 'HIP 107772',\n",
       " 'HIP 107773 b': 'HIP 107773',\n",
       " 'HIP 109384 b': 'HIP 109384',\n",
       " 'HIP 109600 b': 'HIP 109600',\n",
       " 'HIP 114933 b': 'HIP 114933',\n",
       " 'HIP 116454 b': 'HIP 116454',\n",
       " 'HIP 12961 b': 'HIP 12961',\n",
       " 'HIP 21152 b': 'HIP 21152',\n",
       " 'HIP 34222 b': 'HIP 34222',\n",
       " 'HIP 35173 b': 'HIP 35173',\n",
       " 'HIP 35965 b': 'HIP 35965',\n",
       " 'HIP 4845 b': 'HIP 4845',\n",
       " 'HIP 48714 b': 'HIP 48714',\n",
       " 'HIP 55507 b': 'HIP 55507',\n",
       " 'HIP 56640 b': 'HIP 56640',\n",
       " 'HIP 5763 b': 'HIP 5763',\n",
       " 'HIP 63242 b': 'HIP 63242',\n",
       " 'HIP 65 A b': 'HIP 65 A',\n",
       " 'HIP 65426 b': 'HIP 65426',\n",
       " 'HIP 65891 b': 'HIP 65891',\n",
       " 'HIP 67522 b': 'HIP 67522',\n",
       " 'HIP 67537 b': 'HIP 67537',\n",
       " 'HIP 70849 b': 'HIP 70849',\n",
       " 'HIP 71135 b': 'HIP 71135',\n",
       " 'HIP 74890 b': 'HIP 74890',\n",
       " 'HIP 75056 A b': 'HIP 75056 A',\n",
       " 'HIP 75092 b': 'HIP 75092',\n",
       " 'HIP 78530 b': 'HIP 78530',\n",
       " 'HIP 79098 AB b': 'HIP 79098 AB',\n",
       " 'HIP 79431 b': 'HIP 79431',\n",
       " 'HIP 86221 b': 'HIP 86221',\n",
       " 'HIP 90988 b': 'HIP 90988',\n",
       " 'HIP 91258 b': 'HIP 91258',\n",
       " 'HIP 94235 b': 'HIP 94235',\n",
       " 'HIP 948 b': 'HIP 948',\n",
       " 'HIP 97233 b': 'HIP 97233',\n",
       " 'HN Peg b': 'HN Peg',\n",
       " 'HR 2562 b': 'HR 2562',\n",
       " 'HR 5183 b': 'HR 5183',\n",
       " 'HR 810 b': 'HR 810',\n",
       " 'HW Vir b': 'HW Vir',\n",
       " 'IC 4651 9122 b': 'IC 4651 9122',\n",
       " 'K2-10 b': 'K2-10',\n",
       " 'K2-100 b': 'K2-100',\n",
       " 'K2-101 b': 'K2-101',\n",
       " 'K2-102 b': 'K2-102',\n",
       " 'K2-104 b': 'K2-104',\n",
       " 'K2-105 b': 'K2-105',\n",
       " 'K2-107 b': 'K2-107',\n",
       " 'K2-108 b': 'K2-108',\n",
       " 'K2-11 b': 'K2-11',\n",
       " 'K2-110 b': 'K2-110',\n",
       " 'K2-113 b': 'K2-113',\n",
       " 'K2-114 b': 'K2-114',\n",
       " 'K2-115 b': 'K2-115',\n",
       " 'K2-116 b': 'K2-116',\n",
       " 'K2-118 b': 'K2-118',\n",
       " 'K2-119 b': 'K2-119',\n",
       " 'K2-12 b': 'K2-12',\n",
       " 'K2-120 b': 'K2-120',\n",
       " 'K2-121 b': 'K2-121',\n",
       " 'K2-122 b': 'K2-122',\n",
       " 'K2-123 b': 'K2-123',\n",
       " 'K2-124 b': 'K2-124',\n",
       " 'K2-125 b': 'K2-125',\n",
       " 'K2-126 b': 'K2-126',\n",
       " 'K2-127 b': 'K2-127',\n",
       " 'K2-128 b': 'K2-128',\n",
       " 'K2-129 b': 'K2-129',\n",
       " 'K2-13 b': 'K2-13',\n",
       " 'K2-130 b': 'K2-130',\n",
       " 'K2-131 b': 'K2-131',\n",
       " 'K2-132 b': 'K2-132',\n",
       " 'K2-137 b': 'K2-137',\n",
       " 'K2-139 b': 'K2-139',\n",
       " 'K2-14 b': 'K2-14',\n",
       " 'K2-140 b': 'K2-140',\n",
       " 'K2-147 b': 'K2-147',\n",
       " 'K2-149 b': 'K2-149',\n",
       " 'K2-15 b': 'K2-15',\n",
       " 'K2-150 b': 'K2-150',\n",
       " 'K2-151 b': 'K2-151',\n",
       " 'K2-152 b': 'K2-152',\n",
       " 'K2-153 b': 'K2-153',\n",
       " 'K2-156 b': 'K2-156',\n",
       " 'K2-157 b': 'K2-157',\n",
       " 'K2-159 b': 'K2-159',\n",
       " 'K2-160 b': 'K2-160',\n",
       " 'K2-161 b': 'K2-161',\n",
       " 'K2-162 b': 'K2-162',\n",
       " 'K2-163 b': 'K2-163',\n",
       " 'K2-164 b': 'K2-164',\n",
       " 'K2-167 b': 'K2-167',\n",
       " 'K2-169 b': 'K2-169',\n",
       " 'K2-17 b': 'K2-17',\n",
       " 'K2-171 b': 'K2-171',\n",
       " 'K2-173 b': 'K2-173',\n",
       " 'K2-174 b': 'K2-174',\n",
       " 'K2-175 b': 'K2-175',\n",
       " 'K2-176 b': 'K2-176',\n",
       " 'K2-177 b': 'K2-177',\n",
       " 'K2-178 b': 'K2-178',\n",
       " 'K2-179 b': 'K2-179',\n",
       " 'K2-180 b': 'K2-180',\n",
       " 'K2-181 b': 'K2-181',\n",
       " 'K2-182 b': 'K2-182',\n",
       " 'K2-184 b': 'K2-184',\n",
       " 'K2-186 b': 'K2-186',\n",
       " 'K2-191 b': 'K2-191',\n",
       " 'K2-192 b': 'K2-192',\n",
       " 'K2-193 b': 'K2-193',\n",
       " 'K2-194 b': 'K2-194',\n",
       " 'K2-196 b': 'K2-196',\n",
       " 'K2-197 b': 'K2-197',\n",
       " 'K2-200 b': 'K2-200',\n",
       " 'K2-202 b': 'K2-202',\n",
       " 'K2-203 b': 'K2-203',\n",
       " 'K2-204 b': 'K2-204',\n",
       " 'K2-205 b': 'K2-205',\n",
       " 'K2-206 b': 'K2-206',\n",
       " 'K2-207 b': 'K2-207',\n",
       " 'K2-208 b': 'K2-208',\n",
       " 'K2-209 b': 'K2-209',\n",
       " 'K2-210 b': 'K2-210',\n",
       " 'K2-211 b': 'K2-211',\n",
       " 'K2-212 b': 'K2-212',\n",
       " 'K2-213 b': 'K2-213',\n",
       " 'K2-214 b': 'K2-214',\n",
       " 'K2-215 b': 'K2-215',\n",
       " 'K2-216 b': 'K2-216',\n",
       " 'K2-217 b': 'K2-217',\n",
       " 'K2-218 b': 'K2-218',\n",
       " 'K2-22 b': 'K2-22',\n",
       " 'K2-220 b': 'K2-220',\n",
       " 'K2-221 b': 'K2-221',\n",
       " 'K2-222 b': 'K2-222',\n",
       " 'K2-225 b': 'K2-225',\n",
       " 'K2-226 b': 'K2-226',\n",
       " 'K2-227 b': 'K2-227',\n",
       " 'K2-228 b': 'K2-228',\n",
       " 'K2-230 b': 'K2-230',\n",
       " 'K2-231 b': 'K2-231',\n",
       " 'K2-232 b': 'K2-232',\n",
       " 'K2-237 b': 'K2-237',\n",
       " 'K2-238 b': 'K2-238',\n",
       " 'K2-241 b': 'K2-241',\n",
       " 'K2-242 b': 'K2-242',\n",
       " 'K2-244 b': 'K2-244',\n",
       " 'K2-245 b': 'K2-245',\n",
       " 'K2-246 b': 'K2-246',\n",
       " 'K2-248 b': 'K2-248',\n",
       " 'K2-249 b': 'K2-249',\n",
       " 'K2-25 b': 'K2-25',\n",
       " 'K2-250 b': 'K2-250',\n",
       " 'K2-251 b': 'K2-251',\n",
       " 'K2-252 b': 'K2-252',\n",
       " 'K2-253 b': 'K2-253',\n",
       " 'K2-255 b': 'K2-255',\n",
       " 'K2-256 b': 'K2-256',\n",
       " 'K2-257 b': 'K2-257',\n",
       " 'K2-258 b': 'K2-258',\n",
       " 'K2-259 b': 'K2-259',\n",
       " 'K2-26 b': 'K2-26',\n",
       " 'K2-260 b': 'K2-260',\n",
       " 'K2-261 b': 'K2-261',\n",
       " 'K2-263 b': 'K2-263',\n",
       " 'K2-265 b': 'K2-265',\n",
       " 'K2-269 b': 'K2-269',\n",
       " 'K2-27 b': 'K2-27',\n",
       " 'K2-271 b': 'K2-271',\n",
       " 'K2-272 b': 'K2-272',\n",
       " 'K2-273 b': 'K2-273',\n",
       " 'K2-274 b': 'K2-274',\n",
       " 'K2-276 b': 'K2-276',\n",
       " 'K2-277 b': 'K2-277',\n",
       " 'K2-278 b': 'K2-278',\n",
       " 'K2-279 b': 'K2-279',\n",
       " 'K2-28 b': 'K2-28',\n",
       " 'K2-280 b': 'K2-280',\n",
       " 'K2-281 b': 'K2-281',\n",
       " 'K2-283 b': 'K2-283',\n",
       " 'K2-284 b': 'K2-284',\n",
       " 'K2-286 b': 'K2-286',\n",
       " 'K2-287 b': 'K2-287',\n",
       " 'K2-288 B b': 'K2-288 B',\n",
       " 'K2-289 b': 'K2-289',\n",
       " 'K2-29 b': 'K2-29',\n",
       " 'K2-291 b': 'K2-291',\n",
       " 'K2-292 b': 'K2-292',\n",
       " 'K2-293 b': 'K2-293',\n",
       " 'K2-294 b': 'K2-294',\n",
       " 'K2-295 b': 'K2-295',\n",
       " 'K2-30 b': 'K2-30',\n",
       " 'K2-308 b': 'K2-308',\n",
       " 'K2-31 b': 'K2-31',\n",
       " 'K2-315 b': 'K2-315',\n",
       " 'K2-317 b': 'K2-317',\n",
       " 'K2-318 b': 'K2-318',\n",
       " 'K2-319 b': 'K2-319',\n",
       " 'K2-320 b': 'K2-320',\n",
       " 'K2-321 b': 'K2-321',\n",
       " 'K2-322 b': 'K2-322',\n",
       " 'K2-323 b': 'K2-323',\n",
       " 'K2-324 b': 'K2-324',\n",
       " 'K2-325 b': 'K2-325',\n",
       " 'K2-326 b': 'K2-326',\n",
       " 'K2-329 b': 'K2-329',\n",
       " 'K2-33 b': 'K2-33',\n",
       " 'K2-330 b': 'K2-330',\n",
       " 'K2-332 b': 'K2-332',\n",
       " 'K2-333 b': 'K2-333',\n",
       " 'K2-334 b': 'K2-334',\n",
       " 'K2-335 b': 'K2-335',\n",
       " 'K2-336 b': 'K2-336',\n",
       " 'K2-337 b': 'K2-337',\n",
       " 'K2-338 b': 'K2-338',\n",
       " 'K2-339 b': 'K2-339',\n",
       " 'K2-34 b': 'K2-34',\n",
       " 'K2-340 b': 'K2-340',\n",
       " 'K2-341 b': 'K2-341',\n",
       " 'K2-342 b': 'K2-342',\n",
       " 'K2-344 b': 'K2-344',\n",
       " 'K2-345 b': 'K2-345',\n",
       " 'K2-346 b': 'K2-346',\n",
       " 'K2-347 b': 'K2-347',\n",
       " 'K2-349 b': 'K2-349',\n",
       " 'K2-351 b': 'K2-351',\n",
       " 'K2-353 b': 'K2-353',\n",
       " 'K2-354 b': 'K2-354',\n",
       " 'K2-355 b': 'K2-355',\n",
       " 'K2-356 b': 'K2-356',\n",
       " 'K2-357 b': 'K2-357',\n",
       " 'K2-358 b': 'K2-358',\n",
       " 'K2-365 b': 'K2-365',\n",
       " 'K2-366 b': 'K2-366',\n",
       " 'K2-367 b': 'K2-367',\n",
       " 'K2-369 b': 'K2-369',\n",
       " 'K2-370 b': 'K2-370',\n",
       " 'K2-371 b': 'K2-371',\n",
       " 'K2-372 b': 'K2-372',\n",
       " 'K2-373 b': 'K2-373',\n",
       " 'K2-375 b': 'K2-375',\n",
       " 'K2-376 b': 'K2-376',\n",
       " 'K2-377 b': 'K2-377',\n",
       " 'K2-378 b': 'K2-378',\n",
       " 'K2-379 b': 'K2-379',\n",
       " 'K2-380 b': 'K2-380',\n",
       " 'K2-382 b': 'K2-382',\n",
       " 'K2-383 b': 'K2-383',\n",
       " 'K2-385 b': 'K2-385',\n",
       " 'K2-386 b': 'K2-386',\n",
       " 'K2-387 b': 'K2-387',\n",
       " 'K2-388 b': 'K2-388',\n",
       " 'K2-39 b': 'K2-39',\n",
       " 'K2-390 b': 'K2-390',\n",
       " 'K2-391 b': 'K2-391',\n",
       " 'K2-392 b': 'K2-392',\n",
       " 'K2-393 b': 'K2-393',\n",
       " 'K2-394 b': 'K2-394',\n",
       " 'K2-397 b': 'K2-397',\n",
       " 'K2-399 b': 'K2-399',\n",
       " 'K2-4 b': 'K2-4',\n",
       " 'K2-400 b': 'K2-400',\n",
       " 'K2-401 b': 'K2-401',\n",
       " 'K2-402 b': 'K2-402',\n",
       " 'K2-403 b': 'K2-403',\n",
       " 'K2-404 b': 'K2-404',\n",
       " 'K2-405 b': 'K2-405',\n",
       " 'K2-406 b': 'K2-406',\n",
       " 'K2-408 b': 'K2-408',\n",
       " 'K2-409 b': 'K2-409',\n",
       " 'K2-42 b': 'K2-42',\n",
       " 'K2-44 b': 'K2-44',\n",
       " 'K2-45 b': 'K2-45',\n",
       " 'K2-46 b': 'K2-46',\n",
       " 'K2-47 b': 'K2-47',\n",
       " 'K2-48 b': 'K2-48',\n",
       " 'K2-49 b': 'K2-49',\n",
       " 'K2-52 b': 'K2-52',\n",
       " 'K2-53 b': 'K2-53',\n",
       " 'K2-54 b': 'K2-54',\n",
       " 'K2-55 b': 'K2-55',\n",
       " 'K2-57 b': 'K2-57',\n",
       " 'K2-6 b': 'K2-6',\n",
       " 'K2-60 b': 'K2-60',\n",
       " 'K2-61 b': 'K2-61',\n",
       " 'K2-64 b': 'K2-64',\n",
       " 'K2-65 b': 'K2-65',\n",
       " 'K2-66 b': 'K2-66',\n",
       " 'K2-68 b': 'K2-68',\n",
       " 'K2-69 b': 'K2-69',\n",
       " 'K2-7 b': 'K2-7',\n",
       " 'K2-70 b': 'K2-70',\n",
       " 'K2-71 b': 'K2-71',\n",
       " 'K2-73 b': 'K2-73',\n",
       " 'K2-74 b': 'K2-74',\n",
       " 'K2-77 b': 'K2-77',\n",
       " 'K2-79 b': 'K2-79',\n",
       " 'K2-81 b': 'K2-81',\n",
       " 'K2-85 b': 'K2-85',\n",
       " 'K2-86 b': 'K2-86',\n",
       " 'K2-87 b': 'K2-87',\n",
       " 'K2-88 b': 'K2-88',\n",
       " 'K2-89 b': 'K2-89',\n",
       " 'K2-9 b': 'K2-9',\n",
       " 'K2-91 b': 'K2-91',\n",
       " 'K2-95 b': 'K2-95',\n",
       " 'K2-97 b': 'K2-97',\n",
       " 'K2-98 b': 'K2-98',\n",
       " 'K2-99 b': 'K2-99',\n",
       " 'KELT-1 b': 'KELT-1',\n",
       " 'KELT-10 b': 'KELT-10',\n",
       " ...}"
      ]
     },
     "execution_count": 41,
     "metadata": {},
     "output_type": "execute_result"
    }
   ],
   "source": [
    "# now use the read_json function to read 'mapping_1.json'\n",
    "\n",
    "mapping_1_json = read_json(os.path.join(\"data\", \"mapping_1.json\"))\n",
    "\n",
    "mapping_1_json"
   ]
  },
  {
   "cell_type": "markdown",
   "id": "d1fb3b33",
   "metadata": {
    "deletable": false,
    "editable": false
   },
   "source": [
    "If you wish to **verify** that you have read the file correctly, you can check that `mapping_1_json` has the value:\n",
    "\n",
    "```python\n",
    "{'11 Com b': '11 Com',\n",
    " '11 UMi b': '11 UMi',\n",
    " '14 And b': '14 And',\n",
    " ...\n",
    " }\n",
    "```\n",
    "\n",
    "Now that we have read `planets_1.csv` and `mapping_1.json`, we are now ready to combine these two files to create `Planet` objects."
   ]
  },
  {
   "cell_type": "markdown",
   "id": "2559eabd",
   "metadata": {
    "deletable": false,
    "editable": false
   },
   "source": [
    "### Function 3: `planet_cell(row_idx, col_name, planets_rows, header=planets_header)`\n",
    "\n",
    "This function **must** read the **list** of **lists** `planets_rows`, and extract the value at **row** index `row_idx` and **column** index `col_idx`. The function **must** typecast the value based on `col_name`. If the value in `stars_rows` is **missing** (i.e., it is `''`), then the value returned **must** be `None`.\n",
    "\n",
    "The **column** of `planets_rows` where the value should be obtained from, and the correct **data type** for the value are listed in the table below:\n",
    "\n",
    "|Column of `planets_rows`|Data Type|\n",
    "|------|---------|\n",
    "|Planet Name|**string**|\n",
    "|Discovery Year|**int**|\n",
    "|Discovery Method|**string**|\n",
    "|Controversial Flag|**bool**|\n",
    "|Orbital Period [days]|**float**|\n",
    "|Planet Radius [Earth Radius]|**float**|\n",
    "|Planet Mass [Earth Mass]|**float**|\n",
    "|Orbit Semi-Major Axis [au]|**float**|\n",
    "|Eccentricity|**float**|\n",
    "|Equilibrium Temperature [K]|**float**|\n",
    "|Insolation Flux [Earth Flux]|**float**|\n",
    "\n",
    "**Important Hint:** While computing the value of the attribute `controversial_flag`, note that the `Controversial Flag` column of `planets_1.csv` represents `True` with `'1'` and `False` with `'0'`. You **must** be careful with typecasting **strings** to **booleans**."
   ]
  },
  {
   "cell_type": "code",
   "execution_count": 42,
   "id": "cfef28f6",
   "metadata": {
    "tags": []
   },
   "outputs": [],
   "source": [
    "# copy/paste the function 'planet_cell' from lab-p10 here\n",
    "def planet_cell(row_idx, col_name, planets_rows, header=planets_header):\n",
    "    col_idx = header.index(col_name) # extract col_idx from col_name and header\n",
    "    val = planets_rows[row_idx][col_idx] # extract the value at row_idx and col_idx\n",
    "    if val == '':\n",
    "        return None\n",
    "    elif col_name == \"Planet Name\" or col_name == \"Discovery Method\":\n",
    "        val = str(val)\n",
    "    elif col_name == \"Discovery Year\":\n",
    "        val = int(val)\n",
    "    elif col_name in [\"Controversial Flag\"]:\n",
    "        if val == \"1\":\n",
    "            return True\n",
    "        else:\n",
    "            return False\n",
    "    else:\n",
    "        val = float(val)\n",
    "    return val"
   ]
  },
  {
   "cell_type": "markdown",
   "id": "017f11c9",
   "metadata": {
    "deletable": false,
    "editable": false
   },
   "source": [
    "**Question 12:** Create a `Planet` object for the **fifth** planet in the `planets_1.csv` file.\n",
    "\n",
    "You **must** access the values in `planets_1.csv` using the `planet_cell` function. Note that the ninth star would be at **index** 4.\n",
    "\n",
    "The **attribute** of the `Planet` namedtuple object, the corresponding **column** of the `planets_1.csv` file where the value should be obtained from, and the correct **data type** for the value are listed in the table below:\n",
    "\n",
    "|Attribute of `Planet` object|Column of `planets_1.csv`|Data Type|\n",
    "|---------|------|---------|\n",
    "|`planet_name`|Planet Name|**string**|\n",
    "|`host_name`| - |**string**|\n",
    "|`discovery_method`|Discovery Method|**string**|\n",
    "|`discovery_year`|Discovery Year|**int**|\n",
    "|`controversial_flag`|Controversial Flag|**bool**|\n",
    "|`orbital_period`|Orbital Period [days]|**float**|\n",
    "|`planet_radius`|Planet Radius [Earth Radius]|**float**|\n",
    "|`planet_mass`|Planet Mass [Earth Mass]|**float**|\n",
    "|`semi_major_radius`|Orbit Semi-Major Axis [au]|**float**|\n",
    "|`eccentricity`|Eccentricity|**float**|\n",
    "|`equilibrium_temperature`|Equilibrium Temperature [K]|**float**|\n",
    "|`insolation_flux`|Insolation Flux [Earth Flux]|**float**|\n",
    "\n",
    "\n",
    "The value of the `host_name` attribute is found in `mapping_1.json`."
   ]
  },
  {
   "cell_type": "code",
   "execution_count": 43,
   "id": "5d8625e1",
   "metadata": {
    "tags": []
   },
   "outputs": [
    {
     "data": {
      "text/plain": [
       "Planet(planet_name='17 Sco b', host_name='17 Sco', discovery_method='Radial Velocity', discovery_year=2020, controversial_flag=False, orbital_period=578.38, planet_radius=12.9, planet_mass=1373.01872, semi_major_radius=1.45, eccentricity=0.06, equilibrium_temperature=None, insolation_flux=None)"
      ]
     },
     "execution_count": 43,
     "metadata": {},
     "output_type": "execute_result"
    }
   ],
   "source": [
    "# compute and store the answer in the variable 'fifth_planet', then display it\n",
    "row_idx = 4 # the index of the planet we want to convert into a Planet object\n",
    "\n",
    "# extract the values from planets_1_rows\n",
    "planet_name = planet_cell(row_idx, 'Planet Name', planets_rows)\n",
    "host_name = mapping_1_json['17 Sco b']\n",
    "discovery_method = planet_cell(row_idx, 'Discovery Method', planets_rows)\n",
    "discovery_year = planet_cell(row_idx, 'Discovery Year', planets_rows)\n",
    "controversial_flag = planet_cell(row_idx, 'Controversial Flag', planets_rows)\n",
    "orbital_period = planet_cell(row_idx, 'Orbital Period [days]', planets_rows)\n",
    "planet_radius = planet_cell(row_idx, 'Planet Radius [Earth Radius]', planets_rows)\n",
    "planet_mass = planet_cell(row_idx, 'Planet Mass [Earth Mass]', planets_rows)\n",
    "semi_major_radius = planet_cell(row_idx, 'Orbit Semi-Major Axis [au]', planets_rows)\n",
    "eccentricity = planet_cell(row_idx, 'Eccentricity', planets_rows)\n",
    "equilibrium_temperature = planet_cell(row_idx, 'Equilibrium Temperature [K]', planets_rows)\n",
    "insolation_flux = planet_cell(row_idx, 'Insolation Flux [Earth Flux]', planets_rows) # extract the value in column 'Insolation Flux [Earth Flux]' using 'planet_cell'\n",
    "\n",
    "fifth_planet = Planet(planet_name, host_name, discovery_method, discovery_year,\\\n",
    "                  controversial_flag, orbital_period, planet_radius, planet_mass,\\\n",
    "                  semi_major_radius, eccentricity, equilibrium_temperature, insolation_flux)\n",
    "\n",
    "fifth_planet"
   ]
  },
  {
   "cell_type": "code",
   "execution_count": 44,
   "id": "91817571",
   "metadata": {
    "deletable": false,
    "editable": false
   },
   "outputs": [
    {
     "data": {
      "text/html": [
       "<p><strong><pre style='display: inline;'>q12</pre></strong> passed!</p>"
      ],
      "text/plain": [
       "q12 results: All test cases passed!"
      ]
     },
     "execution_count": 44,
     "metadata": {},
     "output_type": "execute_result"
    }
   ],
   "source": [
    "grader.check(\"q12\")"
   ]
  },
  {
   "cell_type": "markdown",
   "id": "435565ea",
   "metadata": {
    "deletable": false,
    "editable": false
   },
   "source": [
    "### Function 4: `get_planets(planet_file, mapping_file)`: \n",
    "\n",
    "This function **must** take in as its input, a CSV file `planet_file` which contains data on planets in the same format as `planets_1.csv`, as well as a JSON file `mapping_file` which maps planets in `planet_file` to their host star in the same format as `mapping_1.json`. This function **must** return a **list** of `Planet` objects by combining the data in these two files. The `Planet` objects **must** appear in the same order as they do in `planet_file`.\n",
    "\n",
    "You **must** access the values in `planets_1.csv` using the `planet_cell` function.\n",
    "\n",
    "Once again, as a reminder, the attributes of the `Planet` objects should be obtained from the **rows** of `planet_file` and from `mapping_file` and stored as follows:\n",
    "\n",
    "|Attribute of `Planet` object|Column of `planets_1.csv`|Data Type|\n",
    "|---------|------|---------|\n",
    "|`planet_name`|Planet Name|**string**|\n",
    "|`host_name`| - |**string**|\n",
    "|`discovery_method`|Discovery Method|**string**|\n",
    "|`discovery_year`|Discovery Year|**int**|\n",
    "|`controversial_flag`|Controversial Flag|**bool**|\n",
    "|`orbital_period`|Orbital Period [days]|**float**|\n",
    "|`planet_radius`|Planet Radius [Earth Radius]|**float**|\n",
    "|`planet_mass`|Planet Mass [Earth Mass]|**float**|\n",
    "|`semi_major_radius`|Orbit Semi-Major Axis [au]|**float**|\n",
    "|`eccentricity`|Eccentricity|**float**|\n",
    "|`equilibrium_temperature`|Equilibrium Temperature [K]|**float**|\n",
    "|`insolation_flux`|Insolation Flux [Earth Flux]|**float**|\n",
    "\n",
    "The value of the `host_name` attribute is found in `mapping_file`.\n",
    "\n",
    "In case any data in `planet_file` is **missing**, the corresponding value should be `None`.\n",
    "\n",
    "For example, when this function is called with the file `planets_1.csv` and `mapping_1.json` as the input, the **list** returned should look like:\n",
    "\n",
    "```python\n",
    "[\n",
    "    Planet(planet_name='11 Com b', host_name='11 Com', discovery_method='Radial Velocity', \n",
    "           discovery_year=2007, controversial_flag=False, orbital_period=326.03, \n",
    "           planet_radius=12.1, planet_mass=6165.6, semi_major_radius=1.29, \n",
    "           eccentricity=0.231, equilibrium_temperature=None, insolation_flux=None),\n",
    "    Planet(planet_name='11 UMi b', host_name='11 UMi', discovery_method='Radial Velocity', \n",
    "           discovery_year=2009, controversial_flag=False, orbital_period=516.21997, \n",
    "           planet_radius=12.3, planet_mass=4684.8142, semi_major_radius=1.53, \n",
    "           eccentricity=0.08, equilibrium_temperature=None, insolation_flux=None),\n",
    "    Planet(planet_name='14 And b', host_name='14 And', discovery_method='Radial Velocity', \n",
    "           discovery_year=2008, controversial_flag=False, orbital_period=185.84, \n",
    "           planet_radius=12.9, planet_mass=1525.5, semi_major_radius=0.83, \n",
    "           eccentricity=0.0, equilibrium_temperature=None, insolation_flux=None),\n",
    "    ...\n",
    "]\n",
    "```"
   ]
  },
  {
   "cell_type": "code",
   "execution_count": 45,
   "id": "2393c4e1",
   "metadata": {},
   "outputs": [],
   "source": [
    "def get_planets(planet_file, mapping_file):\n",
    "    planet_file_csv = process_csv(planet_file)\n",
    "    planet_file_header = planet_file_csv[0]\n",
    "    planet_file_rows = planet_file_csv[1:]\n",
    "    \n",
    "    try:\n",
    "        planet_mapping = read_json(mapping_file)\n",
    "    except json.JSONDecodeError:  \n",
    "        return []\n",
    "    \n",
    "    planets_list = []\n",
    "    \n",
    "    for row in range(len(planet_file_rows)):\n",
    "        try:\n",
    "            planet_name = planet_cell(row, 'Planet Name', planet_file_rows)\n",
    "            host_name = planet_mapping[planet_name]\n",
    "            discovery_year = planet_cell(row, 'Discovery Year', planet_file_rows)\n",
    "            discovery_method = planet_cell(row, 'Discovery Method', planet_file_rows)\n",
    "            controversial_flag = planet_cell(row, 'Controversial Flag', planet_file_rows)\n",
    "            orbital_period = planet_cell(row, 'Orbital Period [days]', planet_file_rows)\n",
    "            planet_radius = planet_cell(row, 'Planet Radius [Earth Radius]', planet_file_rows)\n",
    "            planet_mass = planet_cell(row, 'Planet Mass [Earth Mass]', planet_file_rows)\n",
    "            semi_major_radius = planet_cell(row, 'Orbit Semi-Major Axis [au]', planet_file_rows)\n",
    "            eccentricity = planet_cell(row, 'Eccentricity', planet_file_rows)\n",
    "            equilibrium_temperature = planet_cell(row, 'Equilibrium Temperature [K]', planet_file_rows)\n",
    "            insolation_flux = planet_cell(row, 'Insolation Flux [Earth Flux]', planet_file_rows)\n",
    "        \n",
    "            planet = Planet(planet_name, host_name, discovery_method, discovery_year,\\\n",
    "                  controversial_flag, orbital_period, planet_radius, planet_mass,\\\n",
    "                  semi_major_radius, eccentricity, equilibrium_temperature, insolation_flux)\n",
    "        \n",
    "            planets_list.append(planet)\n",
    "            \n",
    "        except ValueError:\n",
    "            continue\n",
    "        except IndexError:\n",
    "            continue\n",
    "        except KeyError:\n",
    "            continue\n",
    "        \n",
    "    return planets_list"
   ]
  },
  {
   "cell_type": "markdown",
   "id": "e4fbcc97",
   "metadata": {
    "deletable": false,
    "editable": false
   },
   "source": [
    "**Question 13:** What are the **last five** `Planet` objects in the **list** returned by `get_planets` when `planet_file` is `planets_1.csv` and `mapping_file` is `mapping_1.json`?\n",
    "\n",
    "Your output **must** be a **list** of `Planet` objects.\n",
    "\n",
    "**Hint:** First, you **must** use the `get_planets` function to parse the data in `planets_1.csv` and `mapping_1.json` and create a **list** of `Planet` objects. Then, you may slice this **list** to get the last five `Planet` objects."
   ]
  },
  {
   "cell_type": "code",
   "execution_count": 46,
   "id": "15b69054",
   "metadata": {
    "tags": []
   },
   "outputs": [
    {
     "data": {
      "text/plain": [
       "[Planet(planet_name='Kepler-1467 b', host_name='Kepler-1467', discovery_method='Transit', discovery_year=2016, controversial_flag=False, orbital_period=47.0569043, planet_radius=3.3, planet_mass=10.9, semi_major_radius=0.2388, eccentricity=0.0, equilibrium_temperature=411.0, insolation_flux=7.92),\n",
       " Planet(planet_name='Kepler-1469 b', host_name='Kepler-1469', discovery_method='Transit', discovery_year=2016, controversial_flag=False, orbital_period=21.8635301, planet_radius=2.8, planet_mass=8.25, semi_major_radius=0.1466, eccentricity=0.0, equilibrium_temperature=551.0, insolation_flux=24.9),\n",
       " Planet(planet_name='Kepler-1470 b', host_name='Kepler-1470', discovery_method='Transit', discovery_year=2016, controversial_flag=False, orbital_period=16.2950903, planet_radius=1.07, planet_mass=1.24, semi_major_radius=0.116, eccentricity=0.0, equilibrium_temperature=574.0, insolation_flux=23.92),\n",
       " Planet(planet_name='Kepler-1471 b', host_name='Kepler-1471', discovery_method='Transit', discovery_year=2016, controversial_flag=False, orbital_period=3.63899398, planet_radius=1.41, planet_mass=2.57, semi_major_radius=0.0453, eccentricity=0.0, equilibrium_temperature=1238.0, insolation_flux=314.23),\n",
       " Planet(planet_name='Kepler-1472 b', host_name='Kepler-1472', discovery_method='Transit', discovery_year=2016, controversial_flag=False, orbital_period=38.1312831, planet_radius=1.9, planet_mass=4.27, semi_major_radius=0.2322, eccentricity=0.0, equilibrium_temperature=613.0, insolation_flux=57.08)]"
      ]
     },
     "execution_count": 46,
     "metadata": {},
     "output_type": "execute_result"
    }
   ],
   "source": [
    "# compute and store the answer in the variable 'last_five_planets_1', then display it\n",
    "last_five_planets_1 = get_planets(os.path.join(\"data\", \"planets_1.csv\"), os.path.join(\"data\",\"mapping_1.json\"))[-5:]\n",
    "last_five_planets_1"
   ]
  },
  {
   "cell_type": "code",
   "execution_count": 47,
   "id": "8d99d276",
   "metadata": {
    "deletable": false,
    "editable": false
   },
   "outputs": [
    {
     "data": {
      "text/html": [
       "<p><strong><pre style='display: inline;'>q13</pre></strong> passed!</p>"
      ],
      "text/plain": [
       "q13 results: All test cases passed!"
      ]
     },
     "execution_count": 47,
     "metadata": {},
     "output_type": "execute_result"
    }
   ],
   "source": [
    "grader.check(\"q13\")"
   ]
  },
  {
   "cell_type": "markdown",
   "id": "ccba9efc",
   "metadata": {
    "deletable": false,
    "editable": false
   },
   "source": [
    "**Question 14:** What are the `Planet` objects whose `controversial_flag` attribute is `True` in the **list** returned by `get_planets` when `planet_file` is `planets_2.csv` and `mapping_file` is `mapping_2.json`?\n",
    "\n",
    "Your output **must** be a **list** of `Planet` objects."
   ]
  },
  {
   "cell_type": "code",
   "execution_count": 48,
   "id": "d988296d",
   "metadata": {
    "lines_to_next_cell": 0,
    "tags": []
   },
   "outputs": [
    {
     "data": {
      "text/plain": [
       "[Planet(planet_name='Kepler-452 b', host_name='Kepler-452', discovery_method='Transit', discovery_year=2015, controversial_flag=True, orbital_period=384.843, planet_radius=1.63, planet_mass=3.29, semi_major_radius=1.046, eccentricity=0.0, equilibrium_temperature=265.0, insolation_flux=1.1),\n",
       " Planet(planet_name='Kepler-747 b', host_name='Kepler-747', discovery_method='Transit', discovery_year=2016, controversial_flag=True, orbital_period=35.61760587, planet_radius=5.27, planet_mass=24.1, semi_major_radius=0.1916, eccentricity=0.0, equilibrium_temperature=456.0, insolation_flux=10.19),\n",
       " Planet(planet_name='V830 Tau b', host_name='V830 Tau', discovery_method='Radial Velocity', discovery_year=2016, controversial_flag=True, orbital_period=4.927, planet_radius=14.0, planet_mass=222.481, semi_major_radius=0.057, eccentricity=0.0, equilibrium_temperature=None, insolation_flux=None)]"
      ]
     },
     "execution_count": 48,
     "metadata": {},
     "output_type": "execute_result"
    }
   ],
   "source": [
    "# compute and store the answer in the variable 'controversial_planets', then display it\n",
    "controversial_planets = []\n",
    "\n",
    "for planet in get_planets(os.path.join(\"data\", \"planets_2.csv\"), os.path.join(\"data\", \"mapping_2.json\")):\n",
    "    if planet.controversial_flag == True:\n",
    "        controversial_planets.append(planet)\n",
    "        \n",
    "controversial_planets"
   ]
  },
  {
   "cell_type": "code",
   "execution_count": 49,
   "id": "987bf9d7",
   "metadata": {
    "deletable": false,
    "editable": false
   },
   "outputs": [
    {
     "data": {
      "text/html": [
       "<p><strong><pre style='display: inline;'>q14</pre></strong> passed!</p>"
      ],
      "text/plain": [
       "q14 results: All test cases passed!"
      ]
     },
     "execution_count": 49,
     "metadata": {},
     "output_type": "execute_result"
    }
   ],
   "source": [
    "grader.check(\"q14\")"
   ]
  },
  {
   "cell_type": "markdown",
   "id": "3faaf6aa",
   "metadata": {
    "deletable": false,
    "editable": false
   },
   "source": [
    "### Data Cleaning 1: broken CSV rows\n",
    "\n",
    "Our function `get_planets` works very well so far. However, it is likely that it will not work on all the files in the `data` directory. For example, if you use the function `get_planets` to read the data in `planets_4.csv` and `mapping_4.json`, you will most likely run into an error. **Try it yourself to verify!**\n",
    "\n",
    "The reason your code likely crashed is because there the file `planets_4.csv` is **broken**. For some reason, several rows in `planets_4.csv` have their data jumbled up. For example, in the **566**th row of `planets_4.csv`, we come across this row:\n",
    "\n",
    "|Planet Name|Discovery Method|Discovery Year|Controversial Flag|Orbital Period [days]|Planet Radius [Earth Radius]|Planet Mass [Earth Mass]|Orbit Semi-Major Axis [au]|Eccentricity|Equilibrium Temperature [K]|Insolation Flux [Earth Flux]|\n",
    "|-----------|----------------|--------------|------------------|---------------------|----------------------------|------------------------|---------------------------|------------|---------------------------|----------------------------|\n",
    "|pi Men c|pi Men|Transit|2018|0|6.26790772|2.060|3.63000|0.068647|0.076939|1170|\n",
    "\n",
    "We can see that for some reason, the value under the column `Discovery Method` is the name of the planet's host star. This causes the value under the column `Discovery Year` to be a **string** instead of a number.\n",
    "\n",
    "We will call such a **row** in a CSV file where the values under a column do not match the expected format to be a **broken row**. While it is possible to sometimes extract useful data from broken rows, in this project, we will simply **skip** broken rows.\n",
    "\n",
    "You **must** now go back to your definition of `get_planets` and edit it, so that any **broken rows get skipped**.\n",
    "\n",
    "**Hints:**\n",
    "\n",
    "1. The simplest way to recognize if a row is broken is if you run into any **RunTime Errors** when you call the `get_planets` function. So, one simple way to skip bad rows would be to use `try/except` blocks to avoid processing any rows that cause the code to crash; remember **not** to use *bare* `try/except` blocks.\n",
    "2. There are **several different kinds** of errors that you can expect to find when you try to parse `planets_4.csv`. You should **explicitly** handle each of these errors using `try/except` blocks.\n",
    "3. There are only **5** broken rows in `planets_4.csv`, and they are all bunched up at the very end. You can manually **inspect** these rows, and figure out why these rows are broken.\n",
    "\n",
    "**Important Warning:** You are **not** allowed to **hardcode** the indices of the broken rows. You may inspect `planets_4.csv` to identify how to tell a **broken row** apart. Therefore, to use the example of the **broken row** above, you **may not** hardcode to skip the **566**th row of `planets_4.csv`. However, it is **acceptable** to make your function **skip** any row for which the value under the `Discovery Year` is not numeric, by observing that this is the reason why the row is broken."
   ]
  },
  {
   "cell_type": "markdown",
   "id": "3ebd0c80",
   "metadata": {
    "deletable": false,
    "editable": false
   },
   "source": [
    "**Question 15:** What are the **last five** `Planet` objects produced by `get_planets` when `planet_file` is `planets_4.csv` and `mapping_file` is `mapping_4.json`?\n",
    "\n",
    "Your output **must** be a **list** of `Planet` objects."
   ]
  },
  {
   "cell_type": "code",
   "execution_count": 50,
   "id": "0be6239b",
   "metadata": {
    "lines_to_next_cell": 0,
    "tags": []
   },
   "outputs": [
    {
     "data": {
      "text/plain": [
       "[Planet(planet_name='Wolf 1061 c', host_name='Wolf 1061', discovery_method='Radial Velocity', discovery_year=2015, controversial_flag=False, orbital_period=17.8719, planet_radius=1.66, planet_mass=3.41, semi_major_radius=0.089, eccentricity=0.11, equilibrium_temperature=None, insolation_flux=1.3),\n",
       " Planet(planet_name='Wolf 1061 d', host_name='Wolf 1061', discovery_method='Radial Velocity', discovery_year=2015, controversial_flag=False, orbital_period=217.21, planet_radius=2.69, planet_mass=7.7, semi_major_radius=0.47, eccentricity=0.55, equilibrium_temperature=None, insolation_flux=0.06),\n",
       " Planet(planet_name='YZ Cet b', host_name='YZ Cet', discovery_method='Radial Velocity', discovery_year=2017, controversial_flag=False, orbital_period=2.02087, planet_radius=0.913, planet_mass=0.7, semi_major_radius=0.01634, eccentricity=0.06, equilibrium_temperature=471.0, insolation_flux=8.21),\n",
       " Planet(planet_name='YZ Cet c', host_name='YZ Cet', discovery_method='Radial Velocity', discovery_year=2017, controversial_flag=False, orbital_period=3.05989, planet_radius=1.05, planet_mass=1.14, semi_major_radius=0.02156, eccentricity=0.0, equilibrium_temperature=410.0, insolation_flux=4.72),\n",
       " Planet(planet_name='YZ Cet d', host_name='YZ Cet', discovery_method='Radial Velocity', discovery_year=2017, controversial_flag=False, orbital_period=4.65626, planet_radius=1.03, planet_mass=1.09, semi_major_radius=0.02851, eccentricity=0.07, equilibrium_temperature=357.0, insolation_flux=2.7)]"
      ]
     },
     "execution_count": 50,
     "metadata": {},
     "output_type": "execute_result"
    }
   ],
   "source": [
    "# compute and store the answer in the variable 'last_five_planets_4', then display it\n",
    "last_five_planets_4 = get_planets(os.path.join(\"data\", \"planets_4.csv\"), os.path.join(\"data\",\"mapping_4.json\"))[-5:]\n",
    "last_five_planets_4"
   ]
  },
  {
   "cell_type": "code",
   "execution_count": 51,
   "id": "7bb8823b",
   "metadata": {
    "deletable": false,
    "editable": false
   },
   "outputs": [
    {
     "data": {
      "text/html": [
       "<p><strong><pre style='display: inline;'>q15</pre></strong> passed!</p>"
      ],
      "text/plain": [
       "q15 results: All test cases passed!"
      ]
     },
     "execution_count": 51,
     "metadata": {},
     "output_type": "execute_result"
    }
   ],
   "source": [
    "grader.check(\"q15\")"
   ]
  },
  {
   "cell_type": "markdown",
   "id": "aa7b37d4",
   "metadata": {
    "deletable": false,
    "editable": false
   },
   "source": [
    "### Data Cleaning 2: broken JSON files\n",
    "\n",
    "We are now ready to read **all** the files in the `data` directory and create a **list** of `Planet` objects for all the planets in the directory. However, if you try to use `get_planets` on all the planet CSV files and mapping JSON files, you will likely run into another error. **Try it for yourself by calling `get_planets` on all the files in `data`!**\n",
    "\n",
    "It is likely that your code crashed when you tried to read the data in `planets_5.csv` and `mapping_5.json`. This is because the file `mapping_5.json` is **broken**. Unlike **broken** CSV files, where we only had to skip the **broken rows**, it is much harder to parse **broken JSON files**. When a JSON file is **broken**, we often have no choice but to **skip the file entirely**.\n",
    "\n",
    "You **must** now go back to your definition of `get_planets` and edit it, so that if the JSON file is **broken**, then the file is completely skipped, and only an **empty list** is returned.\n",
    "\n",
    "**Important Warning:** You are **not** allowed to **hardcode** the name of the files to be skipped. You **must** use `try/except` blocks to determine whether the JSON file is **broken** and skip the file if it is. Remmeber **not** to use *bare* `try/except` blocks.\n",
    "\n",
    "**Hint:** Your resulting function will need to have **two** separate `try/except blocks` - one for handling broken CSV rows and one for handling the broken JSON files."
   ]
  },
  {
   "cell_type": "markdown",
   "id": "70413fa1",
   "metadata": {
    "deletable": false,
    "editable": false
   },
   "source": [
    "### Data Structure 4: `planets_list`\n",
    "\n",
    "You are now ready to read all the data about the planets stored in the `data` directory. You **must** now create a **list** containing `Planet` objects by parsing the data inside the files `planets_1.csv`, ..., `planets_5.csv` and `mapping_1.json`, ..., `mapping_5.json`.\n",
    "\n",
    "You **must** skip any **broken rows** in the CSV file, and also completely skip any **broken JSON files**. However, you are **not** allowed to **hardcode** the file you need to skip. You **must** call `get_planets` on **all** 5 pairs of files to answer this question.\n",
    "\n",
    "You **must** use the `get_planets` function on each of the five pairs of files in the `data` directory to create `planets_list`.\n",
    "\n",
    "**Hint:** Recall that you have already created the variable `json_file_paths` in q3. You can similarly create a list of paths of the files that start with `\"planets\"` (see q4 for a similar question). After sorting the paths in these **lists**,  you just need to loop through the indices of these two lists, and use that to extract the pairs of paths from these two lists."
   ]
  },
  {
   "cell_type": "code",
   "execution_count": 52,
   "id": "99bfdf1b",
   "metadata": {
    "tags": []
   },
   "outputs": [
    {
     "data": {
      "text/plain": [
       "4724"
      ]
     },
     "execution_count": 52,
     "metadata": {},
     "output_type": "execute_result"
    }
   ],
   "source": [
    "# define the variable 'planets_list' here,\n",
    "# but do NOT display the variable at the end\n",
    "# TODO: create empty list planets_list\n",
    "# TODO: get an alphabetical list of planet files and mapping files\n",
    "# TODO: iterate through the indices of one of the lists\n",
    "# TODO: call 'get_planets' and extend to 'planets_list'\n",
    "\n",
    "planets_list = []\n",
    "planets_paths = []\n",
    "\n",
    "for path in file_paths:\n",
    "    if \"planets\" in path:\n",
    "        planets_paths.append(path) \n",
    "        \n",
    "planets_paths = sorted(planets_paths)\n",
    "\n",
    "for idx in range(len(planets_paths)):\n",
    "    planets = get_planets(planets_paths[idx], json_file_paths[idx])\n",
    "    planets_list.extend(planets)\n",
    "\n",
    "len(planets_list)"
   ]
  },
  {
   "cell_type": "markdown",
   "id": "1265fad1",
   "metadata": {
    "deletable": false,
    "editable": false
   },
   "source": [
    "If you wish to **verify** that you have read the files and defined `planets_list` correctly, you can check that `planets_list` has **4724** `Planet` objects in it."
   ]
  },
  {
   "cell_type": "markdown",
   "id": "a49a9206",
   "metadata": {
    "deletable": false,
    "editable": false
   },
   "source": [
    "**Question 16:** What is the output of `planets_list[4520:4525]`?\n",
    "\n",
    "Your output **must** be a **list** of `Planet` objects."
   ]
  },
  {
   "cell_type": "code",
   "execution_count": 53,
   "id": "ecf9f329",
   "metadata": {
    "lines_to_next_cell": 0,
    "tags": []
   },
   "outputs": [
    {
     "data": {
      "text/plain": [
       "[Planet(planet_name='Kepler-295 b', host_name='Kepler-295', discovery_method='Transit', discovery_year=2014, controversial_flag=False, orbital_period=12.645164, planet_radius=1.22, planet_mass=1.98, semi_major_radius=0.099, eccentricity=0.0, equilibrium_temperature=741.0, insolation_flux=391.01),\n",
       " Planet(planet_name='Kepler-295 c', host_name='Kepler-295', discovery_method='Transit', discovery_year=2014, controversial_flag=False, orbital_period=21.526258, planet_radius=1.17, planet_mass=1.71, semi_major_radius=0.142, eccentricity=0.0, equilibrium_temperature=621.0, insolation_flux=192.14),\n",
       " Planet(planet_name='Kepler-295 d', host_name='Kepler-295', discovery_method='Transit', discovery_year=2014, controversial_flag=False, orbital_period=33.884054, planet_radius=1.36, planet_mass=2.42, semi_major_radius=0.192, eccentricity=0.0, equilibrium_temperature=533.0, insolation_flux=104.96),\n",
       " Planet(planet_name='Kepler-298 b', host_name='Kepler-298', discovery_method='Transit', discovery_year=2014, controversial_flag=False, orbital_period=10.475464, planet_radius=1.96, planet_mass=4.5, semi_major_radius=0.08, eccentricity=0.0, equilibrium_temperature=540.0, insolation_flux=24.71),\n",
       " Planet(planet_name='Kepler-298 c', host_name='Kepler-298', discovery_method='Transit', discovery_year=2014, controversial_flag=False, orbital_period=22.92881, planet_radius=1.93, planet_mass=4.38, semi_major_radius=0.136, eccentricity=0.0, equilibrium_temperature=416.0, insolation_flux=8.7)]"
      ]
     },
     "execution_count": 53,
     "metadata": {},
     "output_type": "execute_result"
    }
   ],
   "source": [
    "# compute and store the answer in the variable 'planets_4520_4525', then display it\n",
    "planets_4520_4525 = planets_list[4520:4525]\n",
    "planets_4520_4525"
   ]
  },
  {
   "cell_type": "code",
   "execution_count": 54,
   "id": "bbf63953",
   "metadata": {
    "deletable": false,
    "editable": false
   },
   "outputs": [
    {
     "data": {
      "text/html": [
       "<p><strong><pre style='display: inline;'>q16</pre></strong> passed!</p>"
      ],
      "text/plain": [
       "q16 results: All test cases passed!"
      ]
     },
     "execution_count": 54,
     "metadata": {},
     "output_type": "execute_result"
    }
   ],
   "source": [
    "grader.check(\"q16\")"
   ]
  },
  {
   "cell_type": "markdown",
   "id": "bf453b2d",
   "metadata": {
    "deletable": false,
    "editable": false
   },
   "source": [
    "**Question 17:** How many planets in `planets_list` were discovered in the year *2022*?\n",
    "\n",
    "Your output **must** be an **integer**."
   ]
  },
  {
   "cell_type": "code",
   "execution_count": 55,
   "id": "72bf6343",
   "metadata": {
    "lines_to_next_cell": 0,
    "tags": []
   },
   "outputs": [
    {
     "data": {
      "text/plain": [
       "264"
      ]
     },
     "execution_count": 55,
     "metadata": {},
     "output_type": "execute_result"
    }
   ],
   "source": [
    "# compute and store the answer in the variable 'planets_disc_2022', then display it\n",
    "planets_disc_2022 = 0\n",
    "\n",
    "for planet in planets_list:\n",
    "    if planet.discovery_year == 2022:\n",
    "        planets_disc_2022 += 1\n",
    "        \n",
    "planets_disc_2022"
   ]
  },
  {
   "cell_type": "code",
   "execution_count": 56,
   "id": "6ecf7524",
   "metadata": {
    "deletable": false,
    "editable": false
   },
   "outputs": [
    {
     "data": {
      "text/html": [
       "<p><strong><pre style='display: inline;'>q17</pre></strong> passed!</p>"
      ],
      "text/plain": [
       "q17 results: All test cases passed!"
      ]
     },
     "execution_count": 56,
     "metadata": {},
     "output_type": "execute_result"
    }
   ],
   "source": [
    "grader.check(\"q17\")"
   ]
  },
  {
   "cell_type": "markdown",
   "id": "279cd43c",
   "metadata": {
    "deletable": false,
    "editable": false
   },
   "source": [
    "**Question 18**: Find the `Star` object around which the `Planet` named *TOI-2202 c* orbits.\n",
    "\n",
    "Your output **must** be a a `Star` object.\n",
    "\n",
    "**Hint:** You **must** first find the `Planet` object with the `planet_name` *TOI-2202 c* and then use the `host_name` attribute to identify the name of the star aroud which the planet orbits. Then, you can get the `Star` object using the `stars_dict` **dictionary** defined above."
   ]
  },
  {
   "cell_type": "code",
   "execution_count": 57,
   "id": "875e2030",
   "metadata": {
    "lines_to_next_cell": 0,
    "tags": []
   },
   "outputs": [
    {
     "data": {
      "text/plain": [
       "Star(spectral_type='K8 V', stellar_effective_temperature=5144.0, stellar_radius=0.79, stellar_mass=0.82, stellar_luminosity=-0.401, stellar_surface_gravity=4.55, stellar_age=7.48)"
      ]
     },
     "execution_count": 57,
     "metadata": {},
     "output_type": "execute_result"
    }
   ],
   "source": [
    "# compute and store the answer in the variable 'toi_2022_c_star', then display it\n",
    "toi2202c_host_name = None\n",
    "\n",
    "for planet in planets_list:\n",
    "    if planet.planet_name == \"TOI-2202 c\":\n",
    "        toi2202c_host_name = planet.host_name\n",
    "        \n",
    "toi_2022_c_star = stars_dict[toi2202c_host_name]\n",
    "toi_2022_c_star"
   ]
  },
  {
   "cell_type": "code",
   "execution_count": 58,
   "id": "be624e6a",
   "metadata": {
    "deletable": false,
    "editable": false
   },
   "outputs": [
    {
     "data": {
      "text/html": [
       "<p><strong><pre style='display: inline;'>q18</pre></strong> passed!</p>"
      ],
      "text/plain": [
       "q18 results: All test cases passed!"
      ]
     },
     "execution_count": 58,
     "metadata": {},
     "output_type": "execute_result"
    }
   ],
   "source": [
    "grader.check(\"q18\")"
   ]
  },
  {
   "cell_type": "markdown",
   "id": "60edb1d0",
   "metadata": {
    "deletable": false,
    "editable": false
   },
   "source": [
    "**Question 19:** Find the **average** `planet_radius` (in units of the radius of the Earth) of the planets that orbit stars with `stellar_radius` more than *10* (i.e. more than *10* times the radius of the Sun).\n",
    "\n",
    "Your output **must** be a **float**. You **must** skip any `Planet` objects with **missing** `planet_radius` data and any `Star` objects with **missing** `stellar_radius` data."
   ]
  },
  {
   "cell_type": "code",
   "execution_count": 59,
   "id": "8537ddc6",
   "metadata": {
    "lines_to_next_cell": 0,
    "tags": []
   },
   "outputs": [
    {
     "data": {
      "text/plain": [
       "12.87916666666667"
      ]
     },
     "execution_count": 59,
     "metadata": {},
     "output_type": "execute_result"
    }
   ],
   "source": [
    "# compute and store the answer in the variable 'avg_planet_radius_big_stars', then display it\n",
    "planet_radius_total = 0\n",
    "planet_radius_count = 0\n",
    "stars_list = []\n",
    "\n",
    "for star in stars_dict:\n",
    "    try:\n",
    "        if (stars_dict[star]).stellar_radius >= 10:\n",
    "            stars_list.append(star)\n",
    "    except ValueError:\n",
    "        continue\n",
    "    except IndexError:\n",
    "        continue\n",
    "    except KeyError:\n",
    "        continue\n",
    "    except TypeError:\n",
    "        continue      \n",
    "\n",
    "for star in stars_list:\n",
    "    for planet in planets_list:\n",
    "        if planet.host_name == star:\n",
    "            planet_radius_count += 1\n",
    "            planet_radius_total += planet.planet_radius\n",
    "        \n",
    "avg_planet_radius_big_stars = planet_radius_total / planet_radius_count\n",
    "avg_planet_radius_big_stars"
   ]
  },
  {
   "cell_type": "code",
   "execution_count": 60,
   "id": "74dc49fe",
   "metadata": {
    "deletable": false,
    "editable": false
   },
   "outputs": [
    {
     "data": {
      "text/html": [
       "<p><strong><pre style='display: inline;'>q19</pre></strong> passed!</p>"
      ],
      "text/plain": [
       "q19 results: All test cases passed!"
      ]
     },
     "execution_count": 60,
     "metadata": {},
     "output_type": "execute_result"
    }
   ],
   "source": [
    "grader.check(\"q19\")"
   ]
  },
  {
   "cell_type": "markdown",
   "id": "529b9294",
   "metadata": {
    "deletable": false,
    "editable": false
   },
   "source": [
    "**Question 20**: Find all the `Planet` objects that orbit the **youngest** `Star` object.\n",
    "\n",
    "Your output **must** be a **list** of `Planet` objects (even if there is **only one** `Planet` in the list). The age of a `Star` can be found from its `stellar_age` column. You **must** skip any stars with **missing** `stellar_age` data. You do **not** have to worry about any ties. There is a **unique** `Star` in the dataset which is the youngest star."
   ]
  },
  {
   "cell_type": "code",
   "execution_count": 61,
   "id": "2374fc95",
   "metadata": {
    "lines_to_next_cell": 0,
    "tags": []
   },
   "outputs": [
    {
     "data": {
      "text/plain": [
       "[Planet(planet_name='Kepler-1663 b', host_name='Kepler-1663', discovery_method='Transit', discovery_year=2020, controversial_flag=False, orbital_period=17.6046, planet_radius=3.304, planet_mass=10.9, semi_major_radius=0.1072, eccentricity=0.0, equilibrium_temperature=362.0, insolation_flux=4.07)]"
      ]
     },
     "execution_count": 61,
     "metadata": {},
     "output_type": "execute_result"
    }
   ],
   "source": [
    "# compute and store the answer in the variable 'youngest_star_planets', then display it\n",
    "youngest_star_age = None\n",
    "youngest_star = None\n",
    "youngest_star_planets = []\n",
    "\n",
    "for star in stars_dict:\n",
    "    try:\n",
    "        if youngest_star_age == None or stars_dict[star].stellar_age <= youngest_star_age:\n",
    "            youngest_star_age = stars_dict[star].stellar_age\n",
    "            youngest_star = star\n",
    "    except TypeError:\n",
    "        continue\n",
    "        \n",
    "for planet in planets_list:\n",
    "        if planet.host_name == youngest_star:\n",
    "            youngest_star_planets.append(planet)\n",
    "        \n",
    "youngest_star_planets"
   ]
  },
  {
   "cell_type": "code",
   "execution_count": 62,
   "id": "30a6f5d4",
   "metadata": {
    "deletable": false,
    "editable": false
   },
   "outputs": [
    {
     "data": {
      "text/html": [
       "<p><strong><pre style='display: inline;'>q20</pre></strong> passed!</p>"
      ],
      "text/plain": [
       "q20 results: All test cases passed!"
      ]
     },
     "execution_count": 62,
     "metadata": {},
     "output_type": "execute_result"
    }
   ],
   "source": [
    "grader.check(\"q20\")"
   ]
  },
  {
   "cell_type": "markdown",
   "id": "dfe3d9fd",
   "metadata": {
    "deletable": false,
    "editable": false
   },
   "source": [
    "## Submission\n",
    "Make sure you have run all cells in your notebook in order before running the following cells, so that all images/graphs appear in the output.\n",
    "It is recommended that at this stage, you Restart and Run all Cells in your notebook.\n",
    "That will automatically save your work and generate a zip file for you to submit.\n",
    "\n",
    "**SUBMISSION INSTRUCTIONS**:\n",
    "1. **Upload** the zipfile to Gradescope.\n",
    "2. Check **Gradescope otter** results as soon as the auto-grader execution gets completed. Don't worry about the score showing up as -/100.0. You only need to check that the test cases passed."
   ]
  },
  {
   "cell_type": "code",
   "execution_count": 63,
   "id": "69ec12b2",
   "metadata": {
    "cell_type": "code",
    "deletable": false,
    "editable": false
   },
   "outputs": [
    {
     "data": {
      "application/javascript": [
       "IPython.notebook.save_checkpoint();"
      ],
      "text/plain": [
       "<IPython.core.display.Javascript object>"
      ]
     },
     "metadata": {},
     "output_type": "display_data"
    }
   ],
   "source": [
    "# running this cell will create a new save checkpoint for your notebook\n",
    "from IPython.display import display, Javascript\n",
    "display(Javascript('IPython.notebook.save_checkpoint();'))"
   ]
  },
  {
   "cell_type": "code",
   "execution_count": 64,
   "id": "2d2372c2",
   "metadata": {
    "cell_type": "code",
    "deletable": false,
    "editable": false
   },
   "outputs": [
    {
     "name": "stdout",
     "output_type": "stream",
     "text": [
      "[jupytext] Reading p10.ipynb in format ipynb\n",
      "[jupytext] Writing p10.py (destination file replaced)\n"
     ]
    }
   ],
   "source": [
    "!jupytext --to py p10.ipynb"
   ]
  },
  {
   "cell_type": "code",
   "execution_count": 65,
   "id": "048cc634",
   "metadata": {
    "cell_type": "code",
    "deletable": false,
    "editable": false
   },
   "outputs": [
    {
     "name": "stdout",
     "output_type": "stream",
     "text": [
      "Running your submission against local test cases...\n",
      "\n",
      "Your submission received the following results when run against available test cases:\n",
      "\n",
      "    q1 results: All test cases passed!\n",
      "\n",
      "    q2 results: All test cases passed!\n",
      "\n",
      "    q3 results: All test cases passed!\n",
      "\n",
      "    q4 results: All test cases passed!\n",
      "\n",
      "    star_object results: All test cases passed!\n",
      "\n",
      "    q5 results: All test cases passed!\n",
      "\n",
      "    q6 results: All test cases passed!\n",
      "\n",
      "    q7 results: All test cases passed!\n",
      "\n",
      "    q8 results: All test cases passed!\n",
      "\n",
      "    q9 results: All test cases passed!\n",
      "\n",
      "    q10 results: All test cases passed!\n",
      "\n",
      "    q11 results: All test cases passed!\n",
      "\n",
      "    planet_object results: All test cases passed!\n",
      "\n",
      "    q12 results: All test cases passed!\n",
      "\n",
      "    q13 results: All test cases passed!\n",
      "\n",
      "    q14 results: All test cases passed!\n",
      "\n",
      "    q15 results: All test cases passed!\n",
      "\n",
      "    q16 results: All test cases passed!\n",
      "\n",
      "    q17 results: All test cases passed!\n",
      "\n",
      "    q18 results: All test cases passed!\n",
      "\n",
      "    q19 results: All test cases passed!\n",
      "\n",
      "    q20 results: All test cases passed!\n"
     ]
    },
    {
     "data": {
      "text/html": [
       "\n",
       "            <p>Your submission has been exported. Click <a href=\"p10_2022_11_16T13_34_14_503095.zip\" download=\"p10_2022_11_16T13_34_14_503095.zip\" target=\"_blank\">here</a>\n",
       "            to download the zip file.</p>\n",
       "            "
      ],
      "text/plain": [
       "<IPython.core.display.HTML object>"
      ]
     },
     "metadata": {},
     "output_type": "display_data"
    }
   ],
   "source": [
    "p10_test.check_file_size(\"p10.ipynb\")\n",
    "grader.export(pdf=False, run_tests=True, files=[py_filename])"
   ]
  },
  {
   "cell_type": "markdown",
   "id": "f1dafe2e",
   "metadata": {
    "deletable": false,
    "editable": false
   },
   "source": [
    " "
   ]
  }
 ],
 "metadata": {
  "jupytext": {
   "cell_metadata_filter": "-all",
   "encoding": "# coding: utf-8",
   "executable": "/usr/bin/env python",
   "notebook_metadata_filter": "-all"
  },
  "kernelspec": {
   "display_name": "Python 3 (ipykernel)",
   "language": "python",
   "name": "python3"
  },
  "language_info": {
   "codemirror_mode": {
    "name": "ipython",
    "version": 3
   },
   "file_extension": ".py",
   "mimetype": "text/x-python",
   "name": "python",
   "nbconvert_exporter": "python",
   "pygments_lexer": "ipython3",
   "version": "3.9.12"
  },
  "otter": {
   "OK_FORMAT": true,
   "tests": {
    "planet_object": {
     "name": "planet_object",
     "points": 0,
     "suites": [
      {
       "cases": [
        {
         "code": ">>> p10_test.check(\"qplanet_object\", jupiter)\nTrue",
         "hidden": false,
         "locked": false
        }
       ],
       "scored": true,
       "setup": "",
       "teardown": "",
       "type": "doctest"
      }
     ]
    },
    "q1": {
     "name": "q1",
     "points": 5,
     "suites": [
      {
       "cases": [
        {
         "code": ">>> p10_test.check(\"q1\", files_in_data)\nTrue",
         "hidden": false,
         "locked": false
        }
       ],
       "scored": true,
       "setup": "",
       "teardown": "",
       "type": "doctest"
      }
     ]
    },
    "q10": {
     "name": "q10",
     "points": 5,
     "suites": [
      {
       "cases": [
        {
         "code": ">>> p10_test.check(\"q10\", biggest_star)\nTrue",
         "hidden": false,
         "locked": false
        }
       ],
       "scored": true,
       "setup": "",
       "teardown": "",
       "type": "doctest"
      }
     ]
    },
    "q11": {
     "name": "q11",
     "points": 5,
     "suites": [
      {
       "cases": [
        {
         "code": ">>> p10_test.check(\"q11\", avg_age_kepler)\nTrue",
         "hidden": false,
         "locked": false
        }
       ],
       "scored": true,
       "setup": "",
       "teardown": "",
       "type": "doctest"
      }
     ]
    },
    "q12": {
     "name": "q12",
     "points": 5,
     "suites": [
      {
       "cases": [
        {
         "code": ">>> p10_test.check(\"q12\", fifth_planet)\nTrue",
         "hidden": false,
         "locked": false
        }
       ],
       "scored": true,
       "setup": "",
       "teardown": "",
       "type": "doctest"
      }
     ]
    },
    "q13": {
     "name": "q13",
     "points": 5,
     "suites": [
      {
       "cases": [
        {
         "code": ">>> p10_test.check(\"q13\", last_five_planets_1)\nTrue",
         "hidden": false,
         "locked": false
        }
       ],
       "scored": true,
       "setup": "",
       "teardown": "",
       "type": "doctest"
      }
     ]
    },
    "q14": {
     "name": "q14",
     "points": 5,
     "suites": [
      {
       "cases": [
        {
         "code": ">>> p10_test.check(\"q14\", controversial_planets)\nTrue",
         "hidden": false,
         "locked": false
        }
       ],
       "scored": true,
       "setup": "",
       "teardown": "",
       "type": "doctest"
      }
     ]
    },
    "q15": {
     "name": "q15",
     "points": 5,
     "suites": [
      {
       "cases": [
        {
         "code": ">>> p10_test.check(\"q15\", last_five_planets_4)\nTrue",
         "hidden": false,
         "locked": false
        }
       ],
       "scored": true,
       "setup": "",
       "teardown": "",
       "type": "doctest"
      }
     ]
    },
    "q16": {
     "name": "q16",
     "points": 5,
     "suites": [
      {
       "cases": [
        {
         "code": ">>> p10_test.check(\"q16\", planets_4520_4525)\nTrue",
         "hidden": false,
         "locked": false
        }
       ],
       "scored": true,
       "setup": "",
       "teardown": "",
       "type": "doctest"
      }
     ]
    },
    "q17": {
     "name": "q17",
     "points": 5,
     "suites": [
      {
       "cases": [
        {
         "code": ">>> p10_test.check(\"q17\", planets_disc_2022)\nTrue",
         "hidden": false,
         "locked": false
        }
       ],
       "scored": true,
       "setup": "",
       "teardown": "",
       "type": "doctest"
      }
     ]
    },
    "q18": {
     "name": "q18",
     "points": 5,
     "suites": [
      {
       "cases": [
        {
         "code": ">>> p10_test.check(\"q18\", toi_2022_c_star)\nTrue",
         "hidden": false,
         "locked": false
        }
       ],
       "scored": true,
       "setup": "",
       "teardown": "",
       "type": "doctest"
      }
     ]
    },
    "q19": {
     "name": "q19",
     "points": 5,
     "suites": [
      {
       "cases": [
        {
         "code": ">>> p10_test.check(\"q19\", avg_planet_radius_big_stars)\nTrue",
         "hidden": false,
         "locked": false
        }
       ],
       "scored": true,
       "setup": "",
       "teardown": "",
       "type": "doctest"
      }
     ]
    },
    "q2": {
     "name": "q2",
     "points": 5,
     "suites": [
      {
       "cases": [
        {
         "code": ">>> p10_test.check(\"q2\", file_paths)\nTrue",
         "hidden": false,
         "locked": false
        }
       ],
       "scored": true,
       "setup": "",
       "teardown": "",
       "type": "doctest"
      }
     ]
    },
    "q20": {
     "name": "q20",
     "points": 5,
     "suites": [
      {
       "cases": [
        {
         "code": ">>> p10_test.check(\"q20\", youngest_star_planets)\nTrue",
         "hidden": false,
         "locked": false
        }
       ],
       "scored": true,
       "setup": "",
       "teardown": "",
       "type": "doctest"
      }
     ]
    },
    "q3": {
     "name": "q3",
     "points": 5,
     "suites": [
      {
       "cases": [
        {
         "code": ">>> p10_test.check(\"q3\", json_file_paths)\nTrue",
         "hidden": false,
         "locked": false
        }
       ],
       "scored": true,
       "setup": "",
       "teardown": "",
       "type": "doctest"
      }
     ]
    },
    "q4": {
     "name": "q4",
     "points": 5,
     "suites": [
      {
       "cases": [
        {
         "code": ">>> p10_test.check(\"q4\", stars_paths)\nTrue",
         "hidden": false,
         "locked": false
        }
       ],
       "scored": true,
       "setup": "",
       "teardown": "",
       "type": "doctest"
      }
     ]
    },
    "q5": {
     "name": "q5",
     "points": 5,
     "suites": [
      {
       "cases": [
        {
         "code": ">>> p10_test.check(\"q5\", third_star)\nTrue",
         "hidden": false,
         "locked": false
        }
       ],
       "scored": true,
       "setup": "",
       "teardown": "",
       "type": "doctest"
      }
     ]
    },
    "q6": {
     "name": "q6",
     "points": 5,
     "suites": [
      {
       "cases": [
        {
         "code": ">>> p10_test.check(\"q6\", dp_leo)\nTrue",
         "hidden": false,
         "locked": false
        }
       ],
       "scored": true,
       "setup": "",
       "teardown": "",
       "type": "doctest"
      }
     ]
    },
    "q7": {
     "name": "q7",
     "points": 5,
     "suites": [
      {
       "cases": [
        {
         "code": ">>> p10_test.check(\"q7\", avg_lum_stars_1)\nTrue",
         "hidden": false,
         "locked": false
        }
       ],
       "scored": true,
       "setup": "",
       "teardown": "",
       "type": "doctest"
      }
     ]
    },
    "q8": {
     "name": "q8",
     "points": 5,
     "suites": [
      {
       "cases": [
        {
         "code": ">>> p10_test.check(\"q8\", avg_age_stars_2)\nTrue",
         "hidden": false,
         "locked": false
        }
       ],
       "scored": true,
       "setup": "",
       "teardown": "",
       "type": "doctest"
      }
     ]
    },
    "q9": {
     "name": "q9",
     "points": 5,
     "suites": [
      {
       "cases": [
        {
         "code": ">>> p10_test.check(\"q9\", kepler_220_temp)\nTrue",
         "hidden": false,
         "locked": false
        }
       ],
       "scored": true,
       "setup": "",
       "teardown": "",
       "type": "doctest"
      }
     ]
    },
    "star_object": {
     "name": "star_object",
     "points": 0,
     "suites": [
      {
       "cases": [
        {
         "code": ">>> p10_test.check(\"qstar_object\", sun)\nTrue",
         "hidden": false,
         "locked": false
        }
       ],
       "scored": true,
       "setup": "",
       "teardown": "",
       "type": "doctest"
      }
     ]
    }
   }
  }
 },
 "nbformat": 4,
 "nbformat_minor": 5
}
